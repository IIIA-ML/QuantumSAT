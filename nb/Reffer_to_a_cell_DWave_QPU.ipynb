{
 "cells": [
  {
   "cell_type": "code",
   "execution_count": 1,
   "id": "277d4852-ff90-4bde-89fd-2348db75c0fd",
   "metadata": {},
   "outputs": [],
   "source": [
    "import networkx as nx\n",
    "import dwave_networkx as dnx\n",
    "import matplotlib.pyplot as plt\n",
    "import random\n",
    "import dimod\n",
    "from dwave.system import DWaveSampler, EmbeddingComposite, FixedEmbeddingComposite\n",
    "import dwave.inspector\n",
    "from pyqubo import Spin\n",
    "import neal\n",
    "import time\n",
    "import numpy as np\n",
    "import pandas as pd\n",
    "from greedy import SteepestDescentSolver\n",
    "from pyvis.network import Network"
   ]
  },
  {
   "cell_type": "markdown",
   "id": "727980cd-2082-4ac6-bacb-0106d29ec0a3",
   "metadata": {},
   "source": [
    "# Make refference to a individual cell in DWave QPU arquitecture"
   ]
  },
  {
   "cell_type": "markdown",
   "id": "e7d20eef-01a0-4c7e-a51f-f694dc564648",
   "metadata": {},
   "source": [
    "We know:\n",
    "- qubit = (a,b,c,d)\n",
    "- If a=0 we reffer to horizontal part of Pegasus-cell, and if a=1, we reffer to the vertical part.\n",
    "- For a=0:\n",
    "  - b=0  == 1. c=(0-3) cell incompleted // 2. c=(0,1) qubit does not exist\n",
    "  - b=15 == 1. c=(4-11) cell incomplete // 2. c=(10,11) qubit does not exist\n",
    "- For a=1:\n",
    "  - b=0  == 1. c=(0-7) cell incomplete // 2. c=(0,1) qubit does not exist\n",
    "  - b=15 == 1. c=(8-11) cell incomplete // 2. c=(10,11) qubit does not exist\n",
    "- - 0 < a < 1\n",
    "  - 0 < b < 15\n",
    "  - 0 < c < 11\n",
    "  - 0 < d < 14\n",
    "- All row counting starts from top-left corner"
   ]
  },
  {
   "cell_type": "markdown",
   "id": "aca36bd4-4844-4c0c-b393-ae3f9e2d4e60",
   "metadata": {},
   "source": [
    "#### Make refference to the Horizontal or Vertical qubits cell"
   ]
  },
  {
   "cell_type": "code",
   "execution_count": 2,
   "id": "c9fd82ec-ab46-4d47-82ce-f5e948dccb9c",
   "metadata": {},
   "outputs": [],
   "source": [
    "def horizontal(cell_x, row): #Cell=1 makes refference to the first complete cell in the QPU (in x axis)\n",
    "    cell_x+=1 #Para que la primera cell cuando se llame sea la 0\n",
    "    coord=[]\n",
    "    \n",
    "    if row<15:\n",
    "        b_x=(cell_x*4)//12\n",
    "        c_x=cell_x*4-b_x*12\n",
    "        row_x=row-(cell_x-1)//3 #Cada 3 celdas que avanzas se debe retroceder una row (se agrega otra cell en la linea)\n",
    "        for i in range(c_x,c_x+4):\n",
    "            coord.append((0,b_x,i,row_x))\n",
    "            \n",
    "    else:\n",
    "        cell_x=cell_x+(row-14)*3\n",
    "        \n",
    "        b_x=(cell_x*4)//12\n",
    "        c_x=cell_x*4-b_x*12\n",
    "        row_x=row-(cell_x-1)//3 #Cada 3 celdas que avanzas se debe retroceder una row (se agrega otra cell en la linea)\n",
    "        for i in range(c_x,c_x+4):\n",
    "            coord.append((0,b_x,i,row_x))\n",
    "    \n",
    "    coords = dnx.pegasus_coordinates(16)\n",
    "    \n",
    "    return list(coords.iter_pegasus_to_linear(coord))"
   ]
  },
  {
   "cell_type": "code",
   "execution_count": 3,
   "id": "f93a9830-0e3a-4e8e-856e-60f7c7227c04",
   "metadata": {},
   "outputs": [],
   "source": [
    "def vertical(cell_x, row): #Cell=1 makes refference to the first complete cell in the QPU (in y axis)\n",
    "    cell_x+=1\n",
    "    coord=[]\n",
    "    \n",
    "    if row<15:\n",
    "        cell_y=3*(row+1)-cell_x+2\n",
    "        b_y=(cell_y*4)//12\n",
    "        c_y=cell_y*4-b_y*12\n",
    "        row_y=row-(cell_y-2)//3 #Cada 3 celdas que avanzas se debe retroceder una row (se agrega otra cell en la linea)\n",
    "        for i in range(c_y,c_y+4):\n",
    "            coord.append((1,b_y,i,row_y))\n",
    "    else:\n",
    "        cell_x=cell_x+(row-14)*3\n",
    "        \n",
    "        cell_y=3*(row+1)-cell_x+2\n",
    "        b_y=(cell_y*4)//12\n",
    "        c_y=cell_y*4-b_y*12\n",
    "        row_y=row-(cell_y-2)//3 #Cada 3 celdas que avanzas se debe retroceder una row (se agrega otra cell en la linea)\n",
    "        for i in range(c_y,c_y+4):\n",
    "            coord.append((1,b_y,i,row_y))\n",
    "    \n",
    "    coords = dnx.pegasus_coordinates(16)\n",
    "    \n",
    "    return list(coords.iter_pegasus_to_linear(coord))"
   ]
  },
  {
   "cell_type": "markdown",
   "id": "273d7552-56f0-4202-851a-55cb84c94ed7",
   "metadata": {},
   "source": [
    "#### Make refference to an individual cell"
   ]
  },
  {
   "cell_type": "code",
   "execution_count": 4,
   "id": "2c70287b-e62b-4122-ad46-6fe0ded606e8",
   "metadata": {},
   "outputs": [],
   "source": [
    "def cell(cell_x,row):\n",
    "    coord=[]\n",
    "    cell_x+=1 #Para que la primera cell cuando se llame sea la 0\n",
    "    if row<15:\n",
    "        b_x=(cell_x*4)//12\n",
    "        c_x=cell_x*4-b_x*12\n",
    "        row_x=row-(cell_x-1)//3 #Cada 3 celdas que avanzas se debe retroceder una row (se agrega otra cell en la linea)\n",
    "        for i in range(c_x,c_x+4):\n",
    "            coord.append((0,b_x,i,row_x))\n",
    "        \n",
    "        cell_y=3*(row+1)-cell_x+2\n",
    "        b_y=(cell_y*4)//12\n",
    "        c_y=cell_y*4-b_y*12\n",
    "        row_y=row-(cell_y-2)//3 #Cada 3 celdas que avanzas se debe retroceder una row (se agrega otra cell en la linea)\n",
    "        for i in range(c_y,c_y+4):\n",
    "            coord.append((1,b_y,i,row_y))\n",
    "    else:\n",
    "        cell_x=cell_x+(row-14)*3\n",
    "        \n",
    "        b_x=(cell_x*4)//12\n",
    "        c_x=cell_x*4-b_x*12\n",
    "        row_x=row-(cell_x-1)//3 #Cada 3 celdas que avanzas se debe retroceder una row (se agrega otra cell en la linea)\n",
    "        for i in range(c_x,c_x+4):\n",
    "            coord.append((0,b_x,i,row_x))\n",
    "        \n",
    "        cell_y=3*(row+1)-cell_x+2\n",
    "        b_y=(cell_y*4)//12\n",
    "        c_y=cell_y*4-b_y*12\n",
    "        row_y=row-(cell_y-2)//3 #Cada 3 celdas que avanzas se debe retroceder una row (se agrega otra cell en la linea)\n",
    "        for i in range(c_y,c_y+4):\n",
    "            coord.append((1,b_y,i,row_y))\n",
    "\n",
    "    coords = dnx.pegasus_coordinates(16)\n",
    "    \n",
    "    return list(coords.iter_pegasus_to_linear(coord))    "
   ]
  },
  {
   "cell_type": "markdown",
   "id": "c5ed7dac-f402-486f-8afa-07ba815e9524",
   "metadata": {},
   "source": [
    "#### Try both functions"
   ]
  },
  {
   "cell_type": "code",
   "execution_count": 22,
   "id": "d7c2efb0-c3d0-4b44-8944-6e14f76c4960",
   "metadata": {},
   "outputs": [
    {
     "name": "stdout",
     "output_type": "stream",
     "text": [
      "[120, 135, 150, 165, 3060, 3075, 3090, 3105]\n",
      "[540, 555, 570, 585, 5582, 5597, 5612, 5627]\n",
      "{120: (0, 0, 8, 0), 135: (0, 0, 9, 0), 150: (0, 0, 10, 0), 165: (0, 0, 11, 0), 3060: (1, 1, 0, 0), 3075: (1, 1, 1, 0), 3090: (1, 1, 2, 0), 3105: (1, 1, 3, 0), 540: (0, 3, 0, 0), 555: (0, 3, 1, 0), 570: (0, 3, 2, 0), 585: (0, 3, 3, 0), 5582: (1, 15, 0, 2), 5597: (1, 15, 1, 2), 5612: (1, 15, 2, 2), 5627: (1, 15, 3, 2)}\n"
     ]
    },
    {
     "data": {
      "image/png": "[encoded data removed]",
      "text/plain": [
       "<Figure size 640x480 with 1 Axes>"
      ]
     },
     "metadata": {},
     "output_type": "display_data"
    }
   ],
   "source": [
    "C16 = dnx.pegasus_graph(16)\n",
    "pos = dnx.pegasus_layout(C16)\n",
    "coords = dnx.pegasus_coordinates(16)\n",
    "\n",
    "#Identify individual cell\n",
    "nodes_cell=cell(1,0) #First value is the cell (axis \"x\"), Second value is the row (axis \"y\"). Both values starts at 0!\n",
    "#Identify vertical or horizontal cell part\n",
    "nodes_hv=horizontal(8,2)+vertical(1,16)\n",
    "print(nodes_cell)\n",
    "print(nodes_hv)\n",
    "\n",
    "nodes_coord={n: coords.linear_to_pegasus(n) for n in nodes_cell+nodes_hv}\n",
    "print(nodes_coord)\n",
    "\n",
    "A = dnx.pegasus_graph(16, node_list=nodes_cell)\n",
    "posA =  dnx.pegasus_layout(A)\n",
    "B = dnx.pegasus_graph(16, node_list=nodes_hv)\n",
    "posB =  dnx.pegasus_layout(B)\n",
    "\n",
    "fig, ax = plt.subplots()\n",
    "nx.draw(C16, pos, with_labels=False, node_size=10, font_size=4, linewidths=1, node_color='blue', font_color='black', font_weight='bold')\n",
    "nx.draw(A, posA, node_size=10, font_size=4, linewidths=1, node_color='red')\n",
    "nx.draw(B, posB, node_size=10, font_size=4, linewidths=1, node_color='yellow')\n",
    "plt.title('Pegasus Topology')\n",
    "plt.show()"
   ]
  },
  {
   "cell_type": "markdown",
   "id": "c9cfb079-6b8f-4798-9083-297b982df246",
   "metadata": {},
   "source": [
    "### Verify we reffer to the correct cell with the dwave.inspector"
   ]
  },
  {
   "cell_type": "code",
   "execution_count": 21,
   "id": "3c930163-e842-442a-b4ad-93d83765ac51",
   "metadata": {},
   "outputs": [],
   "source": [
    "h={n: 0.25 for n in nodes_cell}\n",
    "J={}\n",
    "edge=DWaveSampler().edgelist\n",
    "for n in nodes_cell:\n",
    "    for i in nodes_cell:\n",
    "        if (n,i) not in J and ((n,i) in edge or (i,n) in edge):\n",
    "            J[(n,i)]=0.25\n",
    "\n",
    "embedding={q: [q] for q in nodes_cell}"
   ]
  },
  {
   "cell_type": "code",
   "execution_count": 18,
   "id": "91bca3ca-28bd-44f1-9865-51c5d19413c9",
   "metadata": {},
   "outputs": [
    {
     "name": "stdin",
     "output_type": "stream",
     "text": [
      "Do you really want to use the QPU? (y/n) y\n"
     ]
    },
    {
     "name": "stdout",
     "output_type": "stream",
     "text": [
      "Using DWaveSampler()\n",
      "  2594 2609 2624 2639 5654 5669 5684 5699 energy num_oc. chain_.\n",
      "0   -1   -1   -1   -1   +1   +1   +1   +1   -6.0       1     0.0\n",
      "['SPIN', 1 rows, 1 samples, 8 variables]\n"
     ]
    }
   ],
   "source": [
    "num_read=1\n",
    "secure_q = input(\"Do you really want to use the QPU? (y/n)\")\n",
    "if secure_q == 'y' or secure_q == 'Y':\n",
    "    sampler = FixedEmbeddingComposite(DWaveSampler(solver=dict(topology__type='pegasus'), token='DEV-291d80af600d6eb433a8019c579070ba37436e9a'), embedding=embedding)\n",
    "    sample_set = sampler.sample_ising(h, J, num_reads=num_read, return_embedding=True)\n",
    "    print(\"Using DWaveSampler()\")\n",
    "    print(sample_set)"
   ]
  },
  {
   "cell_type": "code",
   "execution_count": 20,
   "id": "352b22c3-98cb-4e48-aa08-8022bc964ff5",
   "metadata": {},
   "outputs": [
    {
     "data": {
      "text/html": [
       "<iframe src=http://127.0.0.1:18000/?problemId=77030b04-a704-4d5e-afa0-4baf5b73c326 width=\"100%\" height=640></iframe>"
      ],
      "text/plain": [
       "Serving Inspector on http://127.0.0.1:18000/?problemId=77030b04-a704-4d5e-afa0-4baf5b73c326"
      ]
     },
     "metadata": {},
     "output_type": "display_data"
    },
    {
     "data": {
      "text/plain": [
       "'http://127.0.0.1:18000/?problemId=77030b04-a704-4d5e-afa0-4baf5b73c326'"
      ]
     },
     "execution_count": 20,
     "metadata": {},
     "output_type": "execute_result"
    }
   ],
   "source": [
    "dwave.inspector.show(sample_set)"
   ]
  }
 ],
 "metadata": {
  "kernelspec": {
   "display_name": "Python 3 (ipykernel)",
   "language": "python",
   "name": "python3"
  },
  "language_info": {
   "codemirror_mode": {
    "name": "ipython",
    "version": 3
   },
   "file_extension": ".py",
   "mimetype": "text/x-python",
   "name": "python",
   "nbconvert_exporter": "python",
   "pygments_lexer": "ipython3",
   "version": "3.10.12"
  }
 },
 "nbformat": 4,
 "nbformat_minor": 5
}
