{
 "cells": [
  {
   "cell_type": "code",
   "execution_count": 167,
   "id": "f2696f33-3cfa-4503-994a-0fcdb228c2d3",
   "metadata": {},
   "outputs": [],
   "source": [
    "from pyqubo import Spin\n",
    "import numpy as np\n",
    "import time\n",
    "import dimod\n",
    "import neal\n",
    "from dwave.system.samplers import DWaveSampler\n",
    "from dwave.system.composites import EmbeddingComposite"
   ]
  },
  {
   "cell_type": "code",
   "execution_count": 168,
   "id": "0abec742-1b3f-4d60-8627-f6b36d74f208",
   "metadata": {},
   "outputs": [],
   "source": [
    "def parse_dimacs(dimacs_input):\n",
    "    \"\"\"\n",
    "    Takes a text file with DIMACS format and returns the number of variables used and the \n",
    "    corresponding clauses.\n",
    "    \"\"\"\n",
    "    clauses = []\n",
    "    with open(dimacs_input, 'r') as file:\n",
    "        for line in file:\n",
    "            if line.startswith('p'):\n",
    "                num_vars = int(line.split()[2])\n",
    "                #print(\"NUM VARS:\", num_vars)\n",
    "            elif not line.startswith(('c', 'p', '\\n')):\n",
    "                clause = [int(x) for x in line.split()[:-1]]\n",
    "                #print(\"CLAUSE\", line, clause)\n",
    "                clauses.append(clause)\n",
    "    return num_vars, clauses"
   ]
  },
  {
   "cell_type": "code",
   "execution_count": 169,
   "id": "4b110b80-2efa-4297-afef-8b9e5c85ab8c",
   "metadata": {},
   "outputs": [],
   "source": [
    "def convert_to_Siddhartha_H(num_vars, clauses):\n",
    "    \"\"\"\n",
    "    Takes the number of variables and the clauses used in a MaxSAT problem and builds the Hamiltonian\n",
    "    proposed in \"MAX 2-SAT with up to 108 qubits\" by Siddhartha Santra and Gregory Quiroz.\n",
    "    \"\"\"\n",
    "    # Create variables for each literal\n",
    "    for i in range(1, num_vars + 1):\n",
    "        globals()[f\"s{i}\"] = Spin(f\"s{i}\")\n",
    "\n",
    "    # Construct Hamiltonian\n",
    "    H = 2*len(clauses)\n",
    "    for clause in clauses:\n",
    "        for var in clause:\n",
    "            if var > 0:\n",
    "                H -= globals()[f's{np.abs(var)}']\n",
    "            else:\n",
    "                H += globals()[f's{np.abs(var)}']\n",
    "        \n",
    "        if np.prod(clause) < 0:\n",
    "            H -= globals()[f's{np.abs(clause[0])}']*globals()[f's{np.abs(clause[1])}']\n",
    "        else:\n",
    "            H += globals()[f's{np.abs(clause[0])}']*globals()[f's{np.abs(clause[1])}']\n",
    "\n",
    "    return H*1/4"
   ]
  },
  {
   "cell_type": "code",
   "execution_count": 170,
   "id": "f117f5bf-2e4e-4b14-8669-ad778f0bb257",
   "metadata": {},
   "outputs": [],
   "source": [
    "def count_satisfied_clauses(assignment, clauses):\n",
    "    \"\"\"\n",
    "    Given a solution array, checks how many clauses are satisfied.\n",
    "    \"\"\"\n",
    "    satisfied_count = 0\n",
    "    for clause in clauses:\n",
    "        for literal in clause:\n",
    "            if (literal > 0 and assignment[literal - 1] == 1) or (literal < 0 and assignment[-literal - 1] == 0):\n",
    "                # At least one literal is satisfied\n",
    "                satisfied_count += 1\n",
    "                break\n",
    "    return satisfied_count"
   ]
  },
  {
   "cell_type": "code",
   "execution_count": 155,
   "id": "8a3de189-2fc7-40cf-8729-96efce92bed4",
   "metadata": {},
   "outputs": [],
   "source": [
    "# Read file\n",
    "dimacs_input = \"s2v100c1200-1.cnf\"\n",
    "\n",
    "# Get number of variables and clauses\n",
    "num_vars, clauses = parse_dimacs(dimacs_input)\n",
    "\n",
    "# Builds Siddhartha's Hamiltonian\n",
    "H = convert_to_Siddhartha_H(num_vars, clauses)\n",
    "\n",
    "# Translates into QUBO model\n",
    "model = H.compile()\n",
    "bqm = model.to_bqm()"
   ]
  },
  {
   "cell_type": "markdown",
   "id": "df13f122-20b4-4d24-a811-9d0075f118a9",
   "metadata": {},
   "source": [
    "#### Using ExactSolver\n",
    "##### (not functioning with so many variables)"
   ]
  },
  {
   "cell_type": "code",
   "execution_count": 156,
   "id": "4e5aa298-e98e-4005-88a0-e9287360e17f",
   "metadata": {
    "scrolled": true
   },
   "outputs": [],
   "source": [
    "# sampler = dimod.ExactSolver()\n",
    "# sample_set = sampler.sample(bqm)\n",
    "# print(\"Using ExactSolver()\")\n",
    "# print(sample_set)"
   ]
  },
  {
   "cell_type": "code",
   "execution_count": null,
   "id": "f5760ed8-5868-4997-b1d0-8dba5732c81f",
   "metadata": {},
   "outputs": [],
   "source": []
  },
  {
   "cell_type": "markdown",
   "id": "52c7ca39-0e4c-4ca3-9be7-90c02b879930",
   "metadata": {},
   "source": [
    "#### Using SimulatedAnnealing"
   ]
  },
  {
   "cell_type": "code",
   "execution_count": 173,
   "id": "b92f2fdb-ba63-4a0b-ba97-0df40b3e7811",
   "metadata": {
    "scrolled": true
   },
   "outputs": [
    {
     "name": "stdout",
     "output_type": "stream",
     "text": [
      "Using SimulatedAnnlearingSampler()... Time: 64.7 s.\n",
      "   s1 s10 s100 s11 s12 s13 s14 s15 s16 s17 s18 s19 s2 ... s99 energy num_oc.\n",
      "0   0   0    1   1   0   1   1   0   1   0   1   1  1 ...   1  469.0       1\n",
      "1   0   0    1   1   0   1   1   0   1   0   1   1  1 ...   1  469.0       1\n",
      "2   0   0    1   1   0   1   1   0   1   0   1   1  1 ...   1  469.0       1\n",
      "3   0   0    1   1   0   1   1   0   1   0   1   1  1 ...   1  469.0       1\n",
      "4   0   0    1   1   0   1   1   0   1   0   1   1  1 ...   1  469.0       1\n",
      "5   0   0    1   1   0   1   1   0   1   0   1   1  1 ...   1  469.0       1\n",
      "6   0   0    1   1   0   1   1   0   1   0   1   1  1 ...   1  469.0       1\n",
      "7   0   0    1   1   0   1   1   0   1   0   1   1  1 ...   1  469.0       1\n",
      "8   0   0    1   1   0   1   1   0   1   0   1   1  1 ...   1  469.0       1\n",
      "9   0   0    1   1   0   1   1   0   1   0   1   1  1 ...   1  469.0       1\n",
      "10  0   0    1   1   0   1   1   0   1   0   1   1  1 ...   1  469.0       1\n",
      "11  0   0    1   1   0   1   1   0   1   0   1   1  1 ...   1  469.0       1\n",
      "12  0   0    1   1   0   1   1   0   1   0   1   1  1 ...   1  469.0       1\n",
      "13  0   0    1   1   0   1   1   0   1   0   1   1  1 ...   1  469.0       1\n",
      "14  0   0    1   1   0   1   1   0   1   0   1   1  1 ...   1  469.0       1\n",
      "16  0   0    1   1   0   1   1   0   1   0   1   1  1 ...   1  469.0       1\n",
      "17  0   0    1   1   0   1   1   0   1   0   1   1  1 ...   1  469.0       1\n",
      "18  0   0    1   1   0   1   1   0   1   0   1   1  1 ...   1  469.0       1\n",
      "19  0   0    1   1   0   1   1   0   1   0   1   1  1 ...   1  469.0       1\n",
      "20  0   0    1   1   0   1   1   0   1   0   1   1  1 ...   1  469.0       1\n",
      "21  0   0    1   1   0   1   1   0   1   0   1   1  1 ...   1  469.0       1\n",
      "22  0   0    1   1   0   1   1   0   1   0   1   1  1 ...   1  469.0       1\n",
      "23  0   0    1   1   0   1   1   0   1   0   1   1  1 ...   1  469.0       1\n",
      "24  0   0    1   1   0   1   1   0   1   0   1   1  1 ...   1  469.0       1\n",
      "25  0   0    1   1   0   1   1   0   1   0   1   1  1 ...   1  469.0       1\n",
      "26  0   0    1   1   0   1   1   0   1   0   1   1  1 ...   1  469.0       1\n",
      "27  0   0    1   1   0   1   1   0   1   0   1   1  1 ...   1  469.0       1\n",
      "29  0   0    1   1   0   1   1   0   1   0   1   1  1 ...   1  469.0       1\n",
      "30  0   0    1   1   0   1   1   0   1   0   1   1  1 ...   1  469.0       1\n",
      "31  0   0    1   1   0   1   1   0   1   0   1   1  1 ...   1  469.0       1\n",
      "32  0   0    1   1   0   1   1   0   1   0   1   1  1 ...   1  469.0       1\n",
      "33  0   0    1   1   0   1   1   0   1   0   1   1  1 ...   1  469.0       1\n",
      "34  0   0    1   1   0   1   1   0   1   0   1   1  1 ...   1  469.0       1\n",
      "35  0   0    1   1   0   1   1   0   1   0   1   1  1 ...   1  469.0       1\n",
      "36  0   0    1   1   0   1   1   0   1   0   1   1  1 ...   1  469.0       1\n",
      "37  0   0    1   1   0   1   1   0   1   0   1   1  1 ...   1  469.0       1\n",
      "38  0   0    1   1   0   1   1   0   1   0   1   1  1 ...   1  469.0       1\n",
      "39  0   0    1   1   0   1   1   0   1   0   1   1  1 ...   1  469.0       1\n",
      "40  0   0    1   1   0   1   1   0   1   0   1   1  1 ...   1  469.0       1\n",
      "41  0   0    1   1   0   1   1   0   1   0   1   1  1 ...   1  469.0       1\n",
      "42  0   0    1   1   0   1   1   0   1   0   1   1  1 ...   1  469.0       1\n",
      "43  0   0    1   1   0   1   1   0   1   0   1   1  1 ...   1  469.0       1\n",
      "44  0   0    1   1   0   1   1   0   1   0   1   1  1 ...   1  469.0       1\n",
      "45  0   0    1   1   0   1   1   0   1   0   1   1  1 ...   1  469.0       1\n",
      "47  0   0    1   1   0   1   1   0   1   0   1   1  1 ...   1  469.0       1\n",
      "48  0   0    1   1   0   1   1   0   1   0   1   1  1 ...   1  469.0       1\n",
      "49  0   0    1   1   0   1   1   0   1   0   1   1  1 ...   1  469.0       1\n",
      "50  0   0    1   1   0   1   1   0   1   0   1   1  1 ...   1  469.0       1\n",
      "51  0   0    1   1   0   1   1   0   1   0   1   1  1 ...   1  469.0       1\n",
      "52  0   0    1   1   0   1   1   0   1   0   1   1  1 ...   1  469.0       1\n",
      "53  0   0    1   1   0   1   1   0   1   0   1   1  1 ...   1  469.0       1\n",
      "54  0   0    1   1   0   1   1   0   1   0   1   1  1 ...   1  469.0       1\n",
      "55  0   0    1   1   0   1   1   0   1   0   1   1  1 ...   1  469.0       1\n",
      "56  0   0    1   1   0   1   1   0   1   0   1   1  1 ...   1  469.0       1\n",
      "57  0   0    1   1   0   1   1   0   1   0   1   1  1 ...   1  469.0       1\n",
      "58  0   0    1   1   0   1   1   0   1   0   1   1  1 ...   1  469.0       1\n",
      "59  0   0    1   1   0   1   1   0   1   0   1   1  1 ...   1  469.0       1\n",
      "60  0   0    1   1   0   1   1   0   1   0   1   1  1 ...   1  469.0       1\n",
      "61  0   0    1   1   0   1   1   0   1   0   1   1  1 ...   1  469.0       1\n",
      "62  0   0    1   1   0   1   1   0   1   0   1   1  1 ...   1  469.0       1\n",
      "63  0   0    1   1   0   1   1   0   1   0   1   1  1 ...   1  469.0       1\n",
      "64  0   0    1   1   0   1   1   0   1   0   1   1  1 ...   1  469.0       1\n",
      "65  0   0    1   1   0   1   1   0   1   0   1   1  1 ...   1  469.0       1\n",
      "66  0   0    1   1   0   1   1   0   1   0   1   1  1 ...   1  469.0       1\n",
      "67  0   0    1   1   0   1   1   0   1   0   1   1  1 ...   1  469.0       1\n",
      "68  0   0    1   1   0   1   1   0   1   0   1   1  1 ...   1  469.0       1\n",
      "69  0   0    1   1   0   1   1   0   1   0   1   1  1 ...   1  469.0       1\n",
      "70  0   0    1   1   0   1   1   0   1   0   1   1  1 ...   1  469.0       1\n",
      "71  0   0    1   1   0   1   1   0   1   0   1   1  1 ...   1  469.0       1\n",
      "72  0   0    1   1   0   1   1   0   1   0   1   1  1 ...   1  469.0       1\n",
      "73  0   0    1   1   0   1   1   0   1   0   1   1  1 ...   1  469.0       1\n",
      "74  0   0    1   1   0   1   1   0   1   0   1   1  1 ...   1  469.0       1\n",
      "75  0   0    1   1   0   1   1   0   1   0   1   1  1 ...   1  469.0       1\n",
      "76  0   0    1   1   0   1   1   0   1   0   1   1  1 ...   1  469.0       1\n",
      "77  0   0    1   1   0   1   1   0   1   0   1   1  1 ...   1  469.0       1\n",
      "79  0   0    1   1   0   1   1   0   1   0   1   1  1 ...   1  469.0       1\n",
      "80  0   0    1   1   0   1   1   0   1   0   1   1  1 ...   1  469.0       1\n",
      "81  0   0    1   1   0   1   1   0   1   0   1   1  1 ...   1  469.0       1\n",
      "82  0   0    1   1   0   1   1   0   1   0   1   1  1 ...   1  469.0       1\n",
      "83  0   0    1   1   0   1   1   0   1   0   1   1  1 ...   1  469.0       1\n",
      "85  0   0    1   1   0   1   1   0   1   0   1   1  1 ...   1  469.0       1\n",
      "86  0   0    1   1   0   1   1   0   1   0   1   1  1 ...   1  469.0       1\n",
      "87  0   0    1   1   0   1   1   0   1   0   1   1  1 ...   1  469.0       1\n",
      "88  0   0    1   1   0   1   1   0   1   0   1   1  1 ...   1  469.0       1\n",
      "89  0   0    1   1   0   1   1   0   1   0   1   1  1 ...   1  469.0       1\n",
      "90  0   0    1   1   0   1   1   0   1   0   1   1  1 ...   1  469.0       1\n",
      "91  0   0    1   1   0   1   1   0   1   0   1   1  1 ...   1  469.0       1\n",
      "92  0   0    1   1   0   1   1   0   1   0   1   1  1 ...   1  469.0       1\n",
      "93  0   0    1   1   0   1   1   0   1   0   1   1  1 ...   1  469.0       1\n",
      "94  0   0    1   1   0   1   1   0   1   0   1   1  1 ...   1  469.0       1\n",
      "95  0   0    1   1   0   1   1   0   1   0   1   1  1 ...   1  469.0       1\n",
      "96  0   0    1   1   0   1   1   0   1   0   1   1  1 ...   1  469.0       1\n",
      "97  0   0    1   1   0   1   1   0   1   0   1   1  1 ...   1  469.0       1\n",
      "98  0   0    1   1   0   1   1   0   1   0   1   1  1 ...   1  469.0       1\n",
      "99  0   0    1   1   0   1   1   0   1   0   1   1  1 ...   1  469.0       1\n",
      "15  0   0    1   0   0   1   1   0   1   1   1   1  1 ...   1  470.0       1\n",
      "28  0   0    1   1   0   1   1   0   1   1   1   1  1 ...   1  470.0       1\n",
      "46  0   0    1   0   0   1   1   0   1   1   1   1  1 ...   1  470.0       1\n",
      "78  0   0    1   0   0   1   1   0   1   1   1   1  1 ...   1  470.0       1\n",
      "84  0   0    1   1   0   1   1   0   1   1   1   1  1 ...   1  470.0       1\n",
      "['BINARY', 100 rows, 100 samples, 100 variables]\n"
     ]
    }
   ],
   "source": [
    "sampler = dimod.SimulatedAnnealingSampler()\n",
    "start_time = time.time()\n",
    "sample_set = sampler.sample(bqm, num_reads=100)\n",
    "end_time = time.time()\n",
    "print(\"Using SimulatedAnnlearingSampler()... Time:\", round(end_time-start_time, 2), \"s.\")\n",
    "print(sample_set)\n"
   ]
  },
  {
   "cell_type": "code",
   "execution_count": null,
   "id": "60fe4128-3dd5-4579-be51-5f9c45409cc0",
   "metadata": {},
   "outputs": [],
   "source": []
  },
  {
   "cell_type": "code",
   "execution_count": null,
   "id": "81d6a2c3-5b24-4207-a10f-47e8f3be10df",
   "metadata": {},
   "outputs": [],
   "source": []
  },
  {
   "cell_type": "markdown",
   "id": "4586b42b-f0e7-491c-849d-af0f85edccac",
   "metadata": {},
   "source": [
    "#### Check how many clauses satisfy a given solution"
   ]
  },
  {
   "cell_type": "code",
   "execution_count": 174,
   "id": "689b1ef8-7b14-4527-a5a9-7e51b956d81d",
   "metadata": {},
   "outputs": [
    {
     "name": "stdout",
     "output_type": "stream",
     "text": [
      "Best configuration found: {'s1': 0, 's2': 1, 's3': 1, 's4': 0, 's5': 1, 's6': 1, 's7': 1, 's8': 0, 's9': 1, 's10': 0, 's11': 1, 's12': 0, 's13': 1, 's14': 1, 's15': 0, 's16': 1, 's17': 0, 's18': 1, 's19': 1, 's20': 0, 's21': 0, 's22': 1, 's23': 0, 's24': 0, 's25': 0, 's26': 0, 's27': 1, 's28': 1, 's29': 1, 's30': 0, 's31': 0, 's32': 1, 's33': 0, 's34': 0, 's35': 1, 's36': 1, 's37': 1, 's38': 1, 's39': 1, 's40': 0, 's41': 0, 's42': 0, 's43': 1, 's44': 0, 's45': 0, 's46': 0, 's47': 1, 's48': 0, 's49': 0, 's50': 0, 's51': 1, 's52': 0, 's53': 1, 's54': 1, 's55': 0, 's56': 1, 's57': 1, 's58': 1, 's59': 0, 's60': 0, 's61': 1, 's62': 1, 's63': 1, 's64': 1, 's65': 1, 's66': 0, 's67': 0, 's68': 0, 's69': 0, 's70': 0, 's71': 1, 's72': 1, 's73': 0, 's74': 0, 's75': 1, 's76': 0, 's77': 1, 's78': 1, 's79': 0, 's80': 1, 's81': 0, 's82': 0, 's83': 1, 's84': 0, 's85': 0, 's86': 1, 's87': 1, 's88': 1, 's89': 1, 's90': 0, 's91': 1, 's92': 1, 's93': 1, 's94': 0, 's95': 1, 's96': 1, 's97': 1, 's98': 1, 's99': 1, 's100': 1}\n"
     ]
    }
   ],
   "source": [
    "best_sample = sample_set.first.sample\n",
    "sorted_best_sample = dict(sorted(best_sample.items(), key=lambda item: (len(item[0]), item[0])))\n",
    "print(\"Best configuration found:\", sorted_best_sample)"
   ]
  },
  {
   "cell_type": "code",
   "execution_count": 175,
   "id": "825110f4-230e-45ea-9d5c-7d2c73ed66ac",
   "metadata": {},
   "outputs": [
    {
     "name": "stdout",
     "output_type": "stream",
     "text": [
      "Best configuration array: [0 1 1 0 1 1 1 0 1 0 1 0 1 1 0 1 0 1 1 0 0 1 0 0 0 0 1 1 1 0 0 1 0 0 1 1 1\n",
      " 1 1 0 0 0 1 0 0 0 1 0 0 0 1 0 1 1 0 1 1 1 0 0 1 1 1 1 1 0 0 0 0 0 1 1 0 0\n",
      " 1 0 1 1 0 1 0 0 1 0 0 1 1 1 1 0 1 1 1 0 1 1 1 1 1 1]\n",
      "Corresponding energy: 469.0\n"
     ]
    }
   ],
   "source": [
    "best_configuration_array = np.array([sorted_best_sample[v] for v in sorted_best_sample])\n",
    "print(\"Best configuration array:\", best_configuration_array)\n",
    "\n",
    "best_energy = sample_set.first.energy\n",
    "print(\"Corresponding energy:\", best_energy)"
   ]
  },
  {
   "cell_type": "code",
   "execution_count": 176,
   "id": "1195d463-c2d3-4eb6-9b98-157a992137de",
   "metadata": {},
   "outputs": [
    {
     "name": "stdout",
     "output_type": "stream",
     "text": [
      "NUM OF SATISFIED CLAUSES: 1031\n"
     ]
    }
   ],
   "source": [
    "satisfied_clauses = count_satisfied_clauses(best_configuration_array, clauses)\n",
    "print(\"NUM OF SATISFIED CLAUSES:\", satisfied_clauses)"
   ]
  },
  {
   "cell_type": "code",
   "execution_count": 177,
   "id": "80e7bd8d-4899-4080-afc4-cebdba3c5a26",
   "metadata": {},
   "outputs": [
    {
     "name": "stdout",
     "output_type": "stream",
     "text": [
      "NUM OF UNSATISFIED CLAUSES: 169\n"
     ]
    }
   ],
   "source": [
    "print(\"NUM OF UNSATISFIED CLAUSES:\", len(clauses) - satisfied_clauses)"
   ]
  },
  {
   "cell_type": "code",
   "execution_count": null,
   "id": "2f24a191-358e-4ca7-b030-7f3bd2a26cd2",
   "metadata": {},
   "outputs": [],
   "source": []
  },
  {
   "cell_type": "code",
   "execution_count": null,
   "id": "fd11342e-5bf8-4557-aec7-4b87459f8d40",
   "metadata": {},
   "outputs": [],
   "source": []
  },
  {
   "cell_type": "markdown",
   "id": "293af4f6-aa42-4f0c-9a7e-9eae0bd95bcb",
   "metadata": {},
   "source": [
    "#### Using DWave QPU\n",
    "##### Be sure to enter your DWave Leap Token"
   ]
  },
  {
   "cell_type": "code",
   "execution_count": 140,
   "id": "8b2acd01-2291-4041-bcbd-220a60d12d1a",
   "metadata": {},
   "outputs": [
    {
     "name": "stdin",
     "output_type": "stream",
     "text": [
      "Do you really want to use the QPU? (y/n) y\n"
     ]
    },
    {
     "name": "stdout",
     "output_type": "stream",
     "text": [
      "Using DWaveSampler()\n",
      "  s1 s10 s100 s11 s12 s13 s14 s15 s16 s17 s18 s19 s2 ... s99 energy num_oc. ...\n",
      "1  1   0    1   1   0   1   1   0   1   0   1   1  1 ...   1  476.0       1 ...\n",
      "4  0   0    1   1   0   1   1   1   1   0   1   1  1 ...   1  476.0       1 ...\n",
      "0  1   0    1   1   0   1   1   1   1   0   1   1  1 ...   1  479.0       1 ...\n",
      "2  0   0    1   1   0   1   1   0   1   0   1   1  1 ...   1  479.0       1 ...\n",
      "3  1   0    1   1   0   1   1   0   1   0   1   1  1 ...   1  479.0       1 ...\n",
      "5  0   0    1   1   0   1   1   0   1   0   1   1  1 ...   1  480.0       1 ...\n",
      "6  1   0    1   1   0   1   1   1   1   0   1   1  1 ...   0  482.0       1 ...\n",
      "7  1   0    1   1   0   1   1   1   1   0   1   1  1 ...   1  482.0       1 ...\n",
      "9  0   0    1   1   1   1   1   0   1   0   1   1  1 ...   1  482.0       1 ...\n",
      "8  1   0    1   1   0   1   1   1   1   0   1   1  1 ...   0  483.0       1 ...\n",
      "['BINARY', 10 rows, 10 samples, 100 variables]\n"
     ]
    }
   ],
   "source": [
    "secure_q = input(\"Do you really want to use the QPU? (y/n)\")\n",
    "if secure_q == 'y' or secure_q == 'Y':\n",
    "    q_sampler = EmbeddingComposite(DWaveSampler(token='Your token'))\n",
    "    q_sample_set = q_sampler.sample(bqm, num_reads=10)\n",
    "    print(\"Using DWaveSampler()\")\n",
    "    print(q_sample_set)"
   ]
  },
  {
   "cell_type": "code",
   "execution_count": 178,
   "id": "a7b0f2ea-828a-457e-a232-775e7a81fbeb",
   "metadata": {},
   "outputs": [
    {
     "name": "stdout",
     "output_type": "stream",
     "text": [
      "Best configuration found: {'s1': 1, 's2': 1, 's3': 1, 's4': 0, 's5': 1, 's6': 1, 's7': 1, 's8': 0, 's9': 1, 's10': 0, 's11': 1, 's12': 0, 's13': 1, 's14': 1, 's15': 0, 's16': 1, 's17': 0, 's18': 1, 's19': 1, 's20': 0, 's21': 0, 's22': 0, 's23': 0, 's24': 0, 's25': 0, 's26': 0, 's27': 1, 's28': 1, 's29': 1, 's30': 0, 's31': 0, 's32': 1, 's33': 0, 's34': 1, 's35': 1, 's36': 0, 's37': 1, 's38': 1, 's39': 1, 's40': 0, 's41': 0, 's42': 0, 's43': 1, 's44': 0, 's45': 0, 's46': 0, 's47': 1, 's48': 0, 's49': 0, 's50': 0, 's51': 0, 's52': 0, 's53': 1, 's54': 1, 's55': 0, 's56': 1, 's57': 1, 's58': 1, 's59': 0, 's60': 0, 's61': 0, 's62': 1, 's63': 1, 's64': 1, 's65': 1, 's66': 0, 's67': 0, 's68': 0, 's69': 0, 's70': 0, 's71': 1, 's72': 1, 's73': 0, 's74': 0, 's75': 1, 's76': 0, 's77': 1, 's78': 1, 's79': 0, 's80': 1, 's81': 0, 's82': 0, 's83': 1, 's84': 0, 's85': 0, 's86': 1, 's87': 1, 's88': 1, 's89': 1, 's90': 0, 's91': 1, 's92': 1, 's93': 1, 's94': 0, 's95': 1, 's96': 0, 's97': 1, 's98': 1, 's99': 1, 's100': 1}\n"
     ]
    }
   ],
   "source": [
    "q_sorted_best_sample = dict(sorted(q_sample_set.first.sample.items(), key=lambda item: (len(item[0]), item[0])))\n",
    "print(\"Best configuration found:\", q_sorted_best_sample)"
   ]
  },
  {
   "cell_type": "code",
   "execution_count": 179,
   "id": "399a17a6-a0f3-4e97-a63a-e64f8d051987",
   "metadata": {},
   "outputs": [
    {
     "name": "stdout",
     "output_type": "stream",
     "text": [
      "Best configuration array: [1 1 1 0 1 1 1 0 1 0 1 0 1 1 0 1 0 1 1 0 0 0 0 0 0 0 1 1 1 0 0 1 0 1 1 0 1\n",
      " 1 1 0 0 0 1 0 0 0 1 0 0 0 0 0 1 1 0 1 1 1 0 0 0 1 1 1 1 0 0 0 0 0 1 1 0 0\n",
      " 1 0 1 1 0 1 0 0 1 0 0 1 1 1 1 0 1 1 1 0 1 0 1 1 1 1]\n"
     ]
    }
   ],
   "source": [
    "q_best_configuration_array = np.array([q_sorted_best_sample[v] for v in q_sorted_best_sample])\n",
    "print(\"Best configuration array:\", q_best_configuration_array)"
   ]
  },
  {
   "cell_type": "code",
   "execution_count": 180,
   "id": "952a6add-7801-44df-8586-285b30883670",
   "metadata": {},
   "outputs": [
    {
     "name": "stdout",
     "output_type": "stream",
     "text": [
      "NUM OF SATISFIED CLAUSES: 1024\n"
     ]
    }
   ],
   "source": [
    "q_satisfied_clauses = count_satisfied_clauses(q_best_configuration_array, clauses)\n",
    "print(\"NUM OF SATISFIED CLAUSES:\", q_satisfied_clauses)"
   ]
  },
  {
   "cell_type": "code",
   "execution_count": 181,
   "id": "ad57f64b-19a1-4e0f-95ce-74fcbb71c8db",
   "metadata": {},
   "outputs": [
    {
     "name": "stdout",
     "output_type": "stream",
     "text": [
      "NUM OF UNSATISFIED CLAUSES: 176\n"
     ]
    }
   ],
   "source": [
    "print(\"NUM OF UNSATISFIED CLAUSES:\", len(clauses) - q_satisfied_clauses)"
   ]
  },
  {
   "cell_type": "code",
   "execution_count": null,
   "id": "403d1b69-5281-45e7-bca5-c391e8e54689",
   "metadata": {},
   "outputs": [],
   "source": []
  }
 ],
 "metadata": {
  "kernelspec": {
   "display_name": "Python 3 (ipykernel)",
   "language": "python",
   "name": "python3"
  },
  "language_info": {
   "codemirror_mode": {
    "name": "ipython",
    "version": 3
   },
   "file_extension": ".py",
   "mimetype": "text/x-python",
   "name": "python",
   "nbconvert_exporter": "python",
   "pygments_lexer": "ipython3",
   "version": "3.10.12"
  }
 },
 "nbformat": 4,
 "nbformat_minor": 5
}
