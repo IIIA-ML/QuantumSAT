{
 "cells": [
  {
   "cell_type": "code",
   "execution_count": 1,
   "id": "2a0a472f-771d-4d3f-866a-73c7d8f9d3df",
   "metadata": {},
   "outputs": [],
   "source": [
    "#CPU: Librerias para CPU\n",
    "import numpy as np\n",
    "from scipy.optimize import minimize\n",
    "#Libreria para QPU\n",
    "from dwave.system import LeapHybridSampler"
   ]
  },
  {
   "cell_type": "code",
   "execution_count": 2,
   "id": "33b277fb-c496-444f-a6aa-0a4b454dcab2",
   "metadata": {},
   "outputs": [],
   "source": [
    "x = 45"
   ]
  },
  {
   "cell_type": "code",
   "execution_count": 3,
   "id": "a923047c-a1b4-4897-869f-35aa02f2aa08",
   "metadata": {},
   "outputs": [
    {
     "data": {
      "text/plain": [
       "45"
      ]
     },
     "execution_count": 3,
     "metadata": {},
     "output_type": "execute_result"
    }
   ],
   "source": []
  },
  {
   "cell_type": "code",
   "execution_count": null,
   "id": "bef1fe05-ef65-4243-be5b-48418c04d160",
   "metadata": {},
   "outputs": [],
   "source": []
  },
  {
   "cell_type": "code",
   "execution_count": null,
   "id": "c7637d4e-cc32-4def-8c8e-b0910109a513",
   "metadata": {},
   "outputs": [],
   "source": []
  },
  {
   "cell_type": "code",
   "execution_count": null,
   "id": "8b25354b-4c92-47be-b841-6e4d984fa5fa",
   "metadata": {},
   "outputs": [],
   "source": []
  }
 ],
 "metadata": {
  "kernelspec": {
   "display_name": "Python 3 (ipykernel)",
   "language": "python",
   "name": "python3"
  },
  "language_info": {
   "codemirror_mode": {
    "name": "ipython",
    "version": 3
   },
   "file_extension": ".py",
   "mimetype": "text/x-python",
   "name": "python",
   "nbconvert_exporter": "python",
   "pygments_lexer": "ipython3",
   "version": "3.10.12"
  }
 },
 "nbformat": 4,
 "nbformat_minor": 5
}
