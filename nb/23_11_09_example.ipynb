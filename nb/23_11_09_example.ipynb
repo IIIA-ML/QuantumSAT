{
 "cells": [
  {
   "cell_type": "markdown",
   "id": "7d19b782-c5f8-4326-990a-73978c6cd459",
   "metadata": {},
   "source": [
    "### Example: (x1 v -x2) v (-x1 v -x2 v x3 v x4)"
   ]
  },
  {
   "cell_type": "code",
   "execution_count": 111,
   "id": "f0532caa-1e4d-491c-9ecd-8113f89fd13c",
   "metadata": {},
   "outputs": [],
   "source": [
    "from pyqubo import Spin\n",
    "import dimod\n",
    "import neal\n",
    "from dwave.system.samplers import DWaveSampler\n",
    "from dwave.system.composites import EmbeddingComposite"
   ]
  },
  {
   "cell_type": "code",
   "execution_count": 112,
   "id": "05314610-9027-42c4-ab8d-cb3d1046f72f",
   "metadata": {},
   "outputs": [],
   "source": [
    "# Define hamiltonian (calculations done in paper)\n",
    "s1, s2, s3, s4, s5, s6, s7 = Spin(\"s1\"), Spin(\"s2\"), Spin(\"s3\"), \\\n",
    "                                Spin(\"s4\"), Spin(\"s5\"), Spin(\"s6\"), Spin(\"s7\")\n",
    "H = - s1 + (1/2)*s3 - (1/2)*s4 -(3/2)*s5 - s6 -(3/2)*s7 \\\n",
    "        - (1/2)*s1*s2 + (1/2)*s1*s6 + s1*s7 - (1/2)*s2*s3 \\\n",
    "        + s2*s5 - s3*s5 + (1/2)*s5*s6 + (1/2)*s4*s7 + s6*s7"
   ]
  },
  {
   "cell_type": "code",
   "execution_count": 113,
   "id": "63843284-06f2-4317-961c-1e663e8cd3c6",
   "metadata": {},
   "outputs": [],
   "source": [
    "# Create Ising model\n",
    "model = H.compile()\n",
    "bqm = model.to_bqm()"
   ]
  },
  {
   "cell_type": "markdown",
   "id": "83c59684-6f60-4a7b-b7c4-119632eb2985",
   "metadata": {},
   "source": [
    "#### Using ExactSolver"
   ]
  },
  {
   "cell_type": "code",
   "execution_count": 114,
   "id": "1f1e40e7-88e4-4bcd-bd0c-04a1dbff7f04",
   "metadata": {
    "scrolled": true
   },
   "outputs": [
    {
     "name": "stdout",
     "output_type": "stream",
     "text": [
      "Using ExactSolver()\n",
      "    s1 s2 s3 s4 s5 s6 s7 energy num_oc.\n",
      "33   0  0  1  0  1  0  1   -4.5       1\n",
      "34   1  0  1  0  1  0  1   -4.5       1\n",
      "37   1  1  1  0  1  0  1   -4.5       1\n",
      "46   0  0  1  0  1  1  1   -4.5       1\n",
      "49   0  0  0  0  1  1  1   -4.5       1\n",
      "61   1  0  0  0  1  0  1   -4.5       1\n",
      "62   0  0  0  0  1  0  1   -4.5       1\n",
      "65   0  0  0  1  1  0  1   -4.5       1\n",
      "66   1  0  0  1  1  0  1   -4.5       1\n",
      "76   1  0  0  1  1  1  0   -4.5       1\n",
      "78   0  0  0  1  1  1  1   -4.5       1\n",
      "81   0  0  1  1  1  1  1   -4.5       1\n",
      "83   1  0  1  1  1  1  0   -4.5       1\n",
      "84   1  1  1  1  1  1  0   -4.5       1\n",
      "90   1  1  1  1  1  0  1   -4.5       1\n",
      "93   1  0  1  1  1  0  1   -4.5       1\n",
      "94   0  0  1  1  1  0  1   -4.5       1\n",
      "116  1  1  0  1  0  1  0   -4.5       1\n",
      "5    1  1  0  0  0  0  1   -2.5       1\n",
      "9    0  1  0  0  0  1  1   -2.5       1\n",
      "10   1  1  0  0  0  1  1   -2.5       1\n",
      "11   1  1  0  0  0  1  0   -2.5       1\n",
      "14   0  0  0  0  0  1  1   -2.5       1\n",
      "38   0  1  1  0  1  0  1   -2.5       1\n",
      "41   0  1  1  0  1  1  1   -2.5       1\n",
      "42   1  1  1  0  1  1  1   -2.5       1\n",
      "43   1  1  1  0  1  1  0   -2.5       1\n",
      "44   1  0  1  0  1  1  0   -2.5       1\n",
      "45   1  0  1  0  1  1  1   -2.5       1\n",
      "50   1  0  0  0  1  1  1   -2.5       1\n",
      "51   1  0  0  0  1  1  0   -2.5       1\n",
      "58   1  1  0  0  1  0  1   -2.5       1\n",
      "67   1  0  0  1  1  0  0   -2.5       1\n",
      "69   1  1  0  1  1  0  1   -2.5       1\n",
      "75   1  1  0  1  1  1  0   -2.5       1\n",
      "77   1  0  0  1  1  1  1   -2.5       1\n",
      "79   0  0  0  1  1  1  0   -2.5       1\n",
      "80   0  0  1  1  1  1  0   -2.5       1\n",
      "82   1  0  1  1  1  1  1   -2.5       1\n",
      "85   1  1  1  1  1  1  1   -2.5       1\n",
      "86   0  1  1  1  1  1  1   -2.5       1\n",
      "89   0  1  1  1  1  0  1   -2.5       1\n",
      "91   1  1  1  1  1  0  0   -2.5       1\n",
      "92   1  0  1  1  1  0  0   -2.5       1\n",
      "107  1  1  1  1  0  1  0   -2.5       1\n",
      "113  0  0  0  1  0  1  1   -2.5       1\n",
      "115  1  0  0  1  0  1  0   -2.5       1\n",
      "117  1  1  0  1  0  1  1   -2.5       1\n",
      "118  0  1  0  1  0  1  1   -2.5       1\n",
      "122  1  1  0  1  0  0  1   -2.5       1\n",
      "1    0  0  0  0  0  0  1   -0.5       1\n",
      "2    1  0  0  0  0  0  1   -0.5       1\n",
      "6    0  1  0  0  0  0  1   -0.5       1\n",
      "12   1  0  0  0  0  1  0   -0.5       1\n",
      "13   1  0  0  0  0  1  1   -0.5       1\n",
      "20   1  1  1  0  0  1  0   -0.5       1\n",
      "21   1  1  1  0  0  1  1   -0.5       1\n",
      "22   0  1  1  0  0  1  1   -0.5       1\n",
      "26   1  1  1  0  0  0  1   -0.5       1\n",
      "35   1  0  1  0  1  0  0   -0.5       1\n",
      "36   1  1  1  0  1  0  0   -0.5       1\n",
      "47   0  0  1  0  1  1  0   -0.5       1\n",
      "48   0  0  0  0  1  1  0   -0.5       1\n",
      "52   1  1  0  0  1  1  0   -0.5       1\n",
      "53   1  1  0  0  1  1  1   -0.5       1\n",
      "54   0  1  0  0  1  1  1   -0.5       1\n",
      "57   0  1  0  0  1  0  1   -0.5       1\n",
      "60   1  0  0  0  1  0  0   -0.5       1\n",
      "68   1  1  0  1  1  0  0   -0.5       1\n",
      "70   0  1  0  1  1  0  1   -0.5       1\n",
      "73   0  1  0  1  1  1  1   -0.5       1\n",
      "74   1  1  0  1  1  1  1   -0.5       1\n",
      "87   0  1  1  1  1  1  0   -0.5       1\n",
      "101  1  1  1  1  0  0  1   -0.5       1\n",
      "105  0  1  1  1  0  1  1   -0.5       1\n",
      "106  1  1  1  1  0  1  1   -0.5       1\n",
      "112  0  0  0  1  0  1  0   -0.5       1\n",
      "114  1  0  0  1  0  1  1   -0.5       1\n",
      "119  0  1  0  1  0  1  0   -0.5       1\n",
      "121  0  1  0  1  0  0  1   -0.5       1\n",
      "123  1  1  0  1  0  0  0   -0.5       1\n",
      "125  1  0  0  1  0  0  1   -0.5       1\n",
      "126  0  0  0  1  0  0  1   -0.5       1\n",
      "4    1  1  0  0  0  0  0    1.5       1\n",
      "8    0  1  0  0  0  1  0    1.5       1\n",
      "15   0  0  0  0  0  1  0    1.5       1\n",
      "17   0  0  1  0  0  1  1    1.5       1\n",
      "25   0  1  1  0  0  0  1    1.5       1\n",
      "40   0  1  1  0  1  1  0    1.5       1\n",
      "59   1  1  0  0  1  0  0    1.5       1\n",
      "64   0  0  0  1  1  0  0    1.5       1\n",
      "72   0  1  0  1  1  1  0    1.5       1\n",
      "95   0  0  1  1  1  0  0    1.5       1\n",
      "100  1  1  1  1  0  0  0    1.5       1\n",
      "102  0  1  1  1  0  0  1    1.5       1\n",
      "104  0  1  1  1  0  1  0    1.5       1\n",
      "108  1  0  1  1  0  1  0    1.5       1\n",
      "110  0  0  1  1  0  1  1    1.5       1\n",
      "124  1  0  0  1  0  0  0    1.5       1\n",
      "3    1  0  0  0  0  0  0    3.5       1\n",
      "18   1  0  1  0  0  1  1    3.5       1\n",
      "19   1  0  1  0  0  1  0    3.5       1\n",
      "23   0  1  1  0  0  1  0    3.5       1\n",
      "27   1  1  1  0  0  0  0    3.5       1\n",
      "29   1  0  1  0  0  0  1    3.5       1\n",
      "30   0  0  1  0  0  0  1    3.5       1\n",
      "32   0  0  1  0  1  0  0    3.5       1\n",
      "55   0  1  0  0  1  1  0    3.5       1\n",
      "63   0  0  0  0  1  0  0    3.5       1\n",
      "88   0  1  1  1  1  0  0    3.5       1\n",
      "97   0  0  1  1  0  0  1    3.5       1\n",
      "98   1  0  1  1  0  0  1    3.5       1\n",
      "109  1  0  1  1  0  1  1    3.5       1\n",
      "111  0  0  1  1  0  1  0    3.5       1\n",
      "16   0  0  1  0  0  1  0    5.5       1\n",
      "39   0  1  1  0  1  0  0    5.5       1\n",
      "71   0  1  0  1  1  0  0    5.5       1\n",
      "99   1  0  1  1  0  0  0    5.5       1\n",
      "120  0  1  0  1  0  0  0    5.5       1\n",
      "127  0  0  0  1  0  0  0    5.5       1\n",
      "0    0  0  0  0  0  0  0    7.5       1\n",
      "7    0  1  0  0  0  0  0    7.5       1\n",
      "28   1  0  1  0  0  0  0    7.5       1\n",
      "56   0  1  0  0  1  0  0    7.5       1\n",
      "103  0  1  1  1  0  0  0    7.5       1\n",
      "24   0  1  1  0  0  0  0    9.5       1\n",
      "96   0  0  1  1  0  0  0    9.5       1\n",
      "31   0  0  1  0  0  0  0   11.5       1\n",
      "['BINARY', 128 rows, 128 samples, 7 variables]\n"
     ]
    }
   ],
   "source": [
    "sampler = dimod.ExactSolver()\n",
    "sample_set = sampler.sample(bqm)\n",
    "print(\"Using ExactSolver()\")\n",
    "print(sample_set)"
   ]
  },
  {
   "cell_type": "code",
   "execution_count": null,
   "id": "68691d47-3a11-475c-ad79-d0b17202e625",
   "metadata": {},
   "outputs": [],
   "source": []
  },
  {
   "cell_type": "markdown",
   "id": "204ab4c7-1902-4e46-9236-07ace46fafc8",
   "metadata": {},
   "source": [
    "#### Using SimulatedAnnealing"
   ]
  },
  {
   "cell_type": "code",
   "execution_count": 115,
   "id": "a245d9af-c564-445f-91f5-f6ab440852cf",
   "metadata": {},
   "outputs": [
    {
     "name": "stdout",
     "output_type": "stream",
     "text": [
      "Using SimulatedAnnlearingSampler()\n",
      "  s1 s2 s3 s4 s5 s6 s7 energy num_oc.\n",
      "0  0  0  0  0  1  0  1   -4.5       1\n",
      "1  1  0  0  1  1  1  0   -4.5       1\n",
      "2  1  0  0  0  1  0  1   -4.5       1\n",
      "3  0  0  0  1  1  1  1   -4.5       1\n",
      "4  0  0  1  0  1  1  1   -4.5       1\n",
      "5  1  0  1  1  1  1  0   -4.5       1\n",
      "6  0  0  1  1  1  0  1   -4.5       1\n",
      "7  0  0  0  1  1  0  1   -4.5       1\n",
      "8  1  0  0  0  1  0  1   -4.5       1\n",
      "9  0  0  0  0  1  0  1   -4.5       1\n",
      "['BINARY', 10 rows, 10 samples, 7 variables]\n"
     ]
    }
   ],
   "source": [
    "sampler = dimod.SimulatedAnnealingSampler()\n",
    "sample_set = sampler.sample(bqm)\n",
    "print(\"Using SimulatedAnnlearingSampler()\")\n",
    "print(sample_set)\n"
   ]
  },
  {
   "cell_type": "code",
   "execution_count": null,
   "id": "00c52947-442c-4a83-97a3-37ad2a7e695c",
   "metadata": {},
   "outputs": [],
   "source": []
  },
  {
   "cell_type": "markdown",
   "id": "2ab3a2ba-c6a1-4e5a-8fbe-e0ba1a77256a",
   "metadata": {},
   "source": [
    "#### Using DWave QPU\n",
    "##### Be sure to enter your DWave Leap Token"
   ]
  },
  {
   "cell_type": "code",
   "execution_count": 116,
   "id": "bcf26fcd-8e66-4427-82ac-c146e7e1a2a8",
   "metadata": {},
   "outputs": [
    {
     "name": "stdin",
     "output_type": "stream",
     "text": [
      "Do you really want to use the QPU? (y/n) y\n"
     ]
    },
    {
     "name": "stdout",
     "output_type": "stream",
     "text": [
      "Using DWaveSampler()\n",
      "  s1 s2 s3 s4 s5 s6 s7 energy num_oc. chain_.\n",
      "0  1  0  1  0  1  0  1   -4.5       1     0.0\n",
      "['BINARY', 1 rows, 1 samples, 7 variables]\n"
     ]
    }
   ],
   "source": [
    "secure_q = input(\"Do you really want to use the QPU? (y/n)\")\n",
    "if secure_q == 'y' or secure_q == 'Y':\n",
    "    sampler = EmbeddingComposite(DWaveSampler(token='Your token'))\n",
    "    sample_set = sampler.sample(bqm)\n",
    "    print(\"Using DWaveSampler()\")\n",
    "    print(sample_set)"
   ]
  },
  {
   "cell_type": "code",
   "execution_count": null,
   "id": "a76928b4-da3f-428f-a598-8fee1dde44ef",
   "metadata": {},
   "outputs": [],
   "source": []
  }
 ],
 "metadata": {
  "kernelspec": {
   "display_name": "Python 3 (ipykernel)",
   "language": "python",
   "name": "python3"
  },
  "language_info": {
   "codemirror_mode": {
    "name": "ipython",
    "version": 3
   },
   "file_extension": ".py",
   "mimetype": "text/x-python",
   "name": "python",
   "nbconvert_exporter": "python",
   "pygments_lexer": "ipython3",
   "version": "3.10.12"
  }
 },
 "nbformat": 4,
 "nbformat_minor": 5
}
