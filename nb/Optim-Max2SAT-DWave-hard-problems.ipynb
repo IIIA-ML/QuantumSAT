{
 "cells": [
  {
   "cell_type": "code",
   "execution_count": 1,
   "id": "45dc6e78-7587-4ee1-bc90-2e61268beda4",
   "metadata": {},
   "outputs": [],
   "source": [
    "from dwave.system.composites import EmbeddingComposite\n",
    "from dwave.system.samplers import DWaveSampler\n",
    "import numpy as np\n",
    "from pyqubo import Spin\n",
    "import dimod\n",
    "import neal\n",
    "import time\n",
    "import dwave.inspector\n",
    "import matplotlib.pyplot as plt    \n",
    "from greedy import SteepestDescentSolver"
   ]
  },
  {
   "cell_type": "markdown",
   "id": "cb9be9cd-123f-4a3e-ac23-c71aad310bda",
   "metadata": {},
   "source": [
    "### Solving Max2SAT with Dwave (ising_model)"
   ]
  },
  {
   "cell_type": "code",
   "execution_count": 2,
   "id": "9a5965fc-44ae-4ff1-9fdb-1676b3fee94e",
   "metadata": {},
   "outputs": [],
   "source": [
    "#Reading SAT problem (in CNF)\n",
    "def pedir_problema_SAT(ruta):\n",
    "    lineas = []\n",
    "    with open(ruta, \"r\") as entrada:\n",
    "        lineas = entrada.readlines()\n",
    "    return lineas"
   ]
  },
  {
   "cell_type": "code",
   "execution_count": 3,
   "id": "d18f2333-473d-425a-8545-078df108d6b0",
   "metadata": {},
   "outputs": [],
   "source": [
    "#Obtaining lines from SAT problem\n",
    "ruta = \"s2v120c1500-5.cnf\"\n",
    "lineas = pedir_problema_SAT(ruta)"
   ]
  },
  {
   "cell_type": "code",
   "execution_count": 4,
   "id": "3e9a5436-cd7c-4a90-9cb4-502d3ad04c39",
   "metadata": {},
   "outputs": [],
   "source": [
    "#From lines to clauses\n",
    "def parsear_cnf(lineas):\n",
    "    #Filter no comments lines\n",
    "    lineas_clausulas = [linea.strip() for linea in lineas if not linea.startswith('c') and not linea.startswith('p')]\n",
    "\n",
    "    #Assign each line to a clause\n",
    "    clausulas = [list(map(int, linea.split()[:-1])) for linea in lineas_clausulas]\n",
    "\n",
    "    return clausulas\n",
    "\n",
    "clauses = parsear_cnf(lineas)"
   ]
  },
  {
   "cell_type": "code",
   "execution_count": 5,
   "id": "a0b75aaa-b70f-4433-8993-2e598e6cdf95",
   "metadata": {},
   "outputs": [],
   "source": [
    "#Identify x_n of the SAT problem and creatinc empty h, J\n",
    "b = int(list(lineas[2].split(\" \"))[2])\n",
    "J = {(i, j): 0 for i in range(b) for j in range(i+1, b)}\n",
    "h = {i: 0 for i in range(b)}"
   ]
  },
  {
   "cell_type": "code",
   "execution_count": 6,
   "id": "8e64ae9a-8d06-4662-8b4b-7cfbb2702b34",
   "metadata": {},
   "outputs": [
    {
     "name": "stdout",
     "output_type": "stream",
     "text": [
      "120\n"
     ]
    }
   ],
   "source": [
    "print(b)"
   ]
  },
  {
   "cell_type": "code",
   "execution_count": 7,
   "id": "f03ecaed-d159-48ac-9b68-d3fe91b6ba65",
   "metadata": {},
   "outputs": [
    {
     "name": "stdout",
     "output_type": "stream",
     "text": [
      "{0: 0.75, 1: 1.75, 2: 0.5, 3: 0.75, 4: -1.25, 5: -1.75, 6: 0.0, 7: 0.25, 8: -1.25, 9: 0.75, 10: -0.25, 11: 0.5, 12: 0.5, 13: -1.5, 14: 1.0, 15: -1.0, 16: 0.75, 17: -0.25, 18: -0.25, 19: -1.25, 20: 0.75, 21: 1.5, 22: -0.25, 23: -2.5, 24: -0.5, 25: 0.5, 26: 0.5, 27: -1.25, 28: 2.0, 29: -0.75, 30: -0.5, 31: 1.75, 32: -0.5, 33: -1.0, 34: -1.0, 35: -1.0, 36: 0.5, 37: 0.25, 38: 0.25, 39: 2.25, 40: 0.75, 41: -1.75, 42: -0.75, 43: 0.0, 44: -1.5, 45: 1.25, 46: -0.25, 47: 0.0, 48: 0.25, 49: -1.25, 50: -0.25, 51: 1.75, 52: 2.0, 53: 0.25, 54: -1.25, 55: 0.25, 56: 0.5, 57: 0.75, 58: 0.25, 59: 0.25, 60: 1.5, 61: 1.25, 62: -1.75, 63: -0.25, 64: -0.25, 65: 1.5, 66: -0.75, 67: -1.0, 68: 2.0, 69: -0.25, 70: -0.25, 71: 0.0, 72: -0.5, 73: 1.5, 74: 0.75, 75: 0.75, 76: 1.75, 77: -0.75, 78: 2.0, 79: 0.0, 80: 2.25, 81: 0.5, 82: 0.25, 83: 0.5, 84: -0.5, 85: -1.5, 86: 1.0, 87: -1.0, 88: -0.25, 89: -0.5, 90: 0.5, 91: 1.0, 92: -1.75, 93: 0.25, 94: 1.0, 95: -0.75, 96: 0.75, 97: 0.25, 98: -1.5, 99: -0.5, 100: -1.0, 101: 0.5, 102: 0.25, 103: -0.25, 104: -1.5, 105: 1.25, 106: -2.25, 107: -0.75, 108: -0.25, 109: -0.5, 110: 1.75, 111: -0.5, 112: -0.25, 113: -0.75, 114: 0.5, 115: 0.25, 116: 2.25, 117: -1.5, 118: -0.75, 119: 2.25}\n"
     ]
    }
   ],
   "source": [
    "#Determine the sign of the variable, v={-1,0,1}, and assign values to h, J\n",
    "for clause in clauses:\n",
    "    for literal in clause:\n",
    "        if literal > 0:\n",
    "            h[np.abs(literal)-1] -= 1/4\n",
    "        else:\n",
    "            h[np.abs(literal)-1] += 1/4\n",
    "    if clause[0]*clause[1] > 0:\n",
    "        if np.abs(clause[0])>np.abs(clause[1]):\n",
    "            J[np.abs(clause[1])-1, np.abs(clause[0])-1] += 1/4\n",
    "        else:\n",
    "            J[np.abs(clause[0])-1, np.abs(clause[1])-1] += 1/4\n",
    "    else:\n",
    "        if np.abs(clause[0])>np.abs(clause[1]):\n",
    "            J[np.abs(clause[1])-1, np.abs(clause[0])-1] -= 1/4\n",
    "        else:\n",
    "            J[np.abs(clause[0])-1, np.abs(clause[1])-1] -= 1/4\n",
    "\n",
    "print(h) #We can get an idea only with h"
   ]
  },
  {
   "cell_type": "code",
   "execution_count": 8,
   "id": "4c73965a-0cf5-4d4e-869a-52f0525c3125",
   "metadata": {
    "scrolled": true
   },
   "outputs": [
    {
     "name": "stdin",
     "output_type": "stream",
     "text": [
      "Do you really want to use the QPU? (y/n) y\n"
     ]
    },
    {
     "name": "stdout",
     "output_type": "stream",
     "text": [
      "Using DWaveSampler()\n",
      "    0  1  2  3  4  5  6  7  8  9 10 11 12 13 14 15 ... 119 energy num_oc. ...\n",
      "0  -1 -1 -1 -1 -1 +1 -1 -1 +1 -1 -1 +1 -1 -1 +1 -1 ...  -1 -139.0       1 ...\n",
      "2  -1 -1 -1 -1 -1 +1 -1 -1 +1 -1 -1 +1 -1 -1 +1 -1 ...  -1 -138.0       1 ...\n",
      "1  -1 -1 -1 -1 -1 +1 -1 -1 +1 -1 -1 +1 -1 -1 +1 -1 ...  -1 -136.0       1 ...\n",
      "4  -1 -1 -1 -1 -1 +1 -1 -1 +1 -1 -1 +1 -1 -1 +1 -1 ...  -1 -136.0       1 ...\n",
      "3  -1 -1 -1 -1 -1 +1 -1 -1 +1 -1 -1 +1 -1 -1 +1 -1 ...  -1 -135.0       1 ...\n",
      "5  -1 -1 -1 -1 -1 +1 -1 -1 +1 -1 -1 +1 -1 -1 +1 -1 ...  -1 -135.0       1 ...\n",
      "9  +1 -1 -1 -1 -1 +1 +1 -1 +1 -1 -1 +1 +1 -1 +1 -1 ...  -1 -135.0       1 ...\n",
      "10 -1 -1 -1 -1 -1 +1 -1 -1 +1 -1 -1 +1 -1 -1 +1 -1 ...  -1 -135.0       1 ...\n",
      "6  +1 -1 -1 -1 -1 +1 +1 -1 +1 -1 -1 +1 -1 -1 +1 +1 ...  -1 -133.0       1 ...\n",
      "21 -1 -1 -1 -1 -1 +1 -1 -1 +1 -1 -1 +1 -1 -1 +1 -1 ...  -1 -133.0       1 ...\n",
      "7  -1 -1 -1 -1 -1 +1 -1 -1 +1 -1 -1 +1 +1 -1 +1 -1 ...  -1 -132.0       1 ...\n",
      "12 +1 -1 -1 -1 -1 +1 +1 -1 +1 -1 -1 +1 -1 -1 +1 -1 ...  -1 -132.0       1 ...\n",
      "18 -1 -1 -1 -1 -1 +1 -1 -1 +1 -1 -1 +1 +1 -1 +1 +1 ...  -1 -132.0       1 ...\n",
      "23 -1 -1 -1 -1 -1 +1 -1 -1 +1 -1 +1 +1 -1 -1 +1 -1 ...  -1 -132.0       1 ...\n",
      "24 +1 -1 -1 -1 -1 +1 -1 -1 +1 -1 -1 +1 -1 -1 +1 -1 ...  -1 -132.0       1 ...\n",
      "25 -1 +1 -1 -1 -1 +1 -1 -1 +1 -1 -1 +1 -1 -1 +1 -1 ...  -1 -132.0       1 ...\n",
      "11 -1 -1 -1 -1 -1 +1 -1 -1 +1 -1 -1 +1 +1 -1 +1 -1 ...  -1 -131.0       1 ...\n",
      "13 -1 +1 -1 -1 -1 +1 -1 -1 +1 -1 -1 +1 +1 -1 +1 -1 ...  -1 -131.0       1 ...\n",
      "14 -1 -1 +1 -1 -1 +1 -1 -1 +1 -1 -1 +1 -1 -1 -1 -1 ...  -1 -131.0       1 ...\n",
      "26 -1 -1 -1 -1 -1 +1 +1 -1 +1 -1 -1 +1 -1 -1 +1 -1 ...  -1 -131.0       1 ...\n",
      "55 -1 +1 -1 -1 -1 +1 -1 -1 +1 -1 -1 +1 +1 -1 +1 -1 ...  -1 -131.0       1 ...\n",
      "8  -1 -1 -1 -1 -1 +1 +1 -1 +1 -1 -1 +1 -1 -1 +1 +1 ...  -1 -130.0       1 ...\n",
      "16 -1 -1 -1 -1 -1 +1 -1 -1 +1 -1 -1 +1 -1 -1 +1 -1 ...  -1 -130.0       1 ...\n",
      "28 -1 -1 -1 -1 -1 +1 -1 -1 +1 -1 -1 +1 -1 -1 +1 +1 ...  -1 -130.0       1 ...\n",
      "38 +1 -1 -1 -1 -1 +1 +1 -1 +1 -1 -1 +1 -1 -1 +1 -1 ...  -1 -130.0       1 ...\n",
      "56 +1 -1 -1 -1 -1 +1 +1 -1 +1 -1 -1 +1 +1 -1 +1 -1 ...  -1 -130.0       1 ...\n",
      "60 -1 -1 -1 -1 -1 +1 -1 -1 +1 -1 -1 +1 -1 -1 +1 -1 ...  -1 -130.0       1 ...\n",
      "66 -1 +1 -1 -1 -1 +1 +1 -1 +1 -1 -1 +1 -1 -1 -1 -1 ...  -1 -130.0       1 ...\n",
      "80 -1 -1 -1 -1 -1 +1 -1 -1 +1 -1 -1 +1 -1 -1 +1 -1 ...  -1 -130.0       1 ...\n",
      "15 +1 -1 -1 -1 -1 +1 +1 -1 +1 -1 -1 +1 -1 -1 +1 -1 ...  -1 -129.0       1 ...\n",
      "22 -1 -1 -1 -1 -1 +1 -1 -1 +1 -1 -1 +1 -1 -1 +1 -1 ...  -1 -129.0       1 ...\n",
      "27 -1 +1 -1 -1 -1 +1 -1 -1 +1 -1 -1 +1 +1 -1 +1 -1 ...  -1 -129.0       1 ...\n",
      "30 -1 -1 -1 -1 -1 +1 -1 -1 +1 -1 -1 +1 +1 -1 +1 +1 ...  -1 -129.0       1 ...\n",
      "37 -1 +1 -1 -1 -1 +1 -1 -1 +1 -1 -1 +1 -1 -1 +1 +1 ...  -1 -129.0       1 ...\n",
      "39 +1 -1 -1 -1 -1 +1 -1 -1 +1 -1 -1 +1 -1 -1 -1 -1 ...  -1 -129.0       1 ...\n",
      "42 -1 -1 -1 -1 -1 +1 -1 -1 +1 -1 -1 +1 +1 -1 +1 -1 ...  -1 -129.0       1 ...\n",
      "43 +1 -1 -1 -1 -1 +1 +1 -1 +1 -1 -1 +1 +1 -1 +1 +1 ...  -1 -129.0       1 ...\n",
      "65 +1 +1 -1 -1 -1 +1 +1 -1 +1 -1 -1 +1 -1 -1 +1 -1 ...  -1 -129.0       1 ...\n",
      "78 -1 -1 -1 -1 -1 +1 +1 -1 +1 -1 -1 +1 -1 -1 -1 -1 ...  -1 -129.0       1 ...\n",
      "19 -1 +1 -1 -1 -1 +1 -1 -1 +1 -1 -1 +1 +1 -1 +1 -1 ...  -1 -128.0       1 ...\n",
      "20 +1 -1 -1 -1 -1 +1 +1 -1 +1 -1 -1 +1 +1 -1 +1 +1 ...  -1 -128.0       1 ...\n",
      "29 -1 +1 -1 -1 -1 +1 +1 -1 +1 -1 -1 +1 -1 -1 +1 +1 ...  -1 -128.0       1 ...\n",
      "31 -1 -1 -1 -1 -1 +1 +1 -1 +1 -1 -1 +1 +1 -1 +1 -1 ...  -1 -128.0       1 ...\n",
      "32 -1 -1 -1 -1 -1 +1 -1 -1 +1 -1 -1 +1 +1 -1 +1 +1 ...  -1 -128.0       1 ...\n",
      "41 -1 -1 -1 -1 -1 +1 -1 -1 +1 -1 -1 +1 -1 -1 -1 -1 ...  -1 -128.0       1 ...\n",
      "45 -1 -1 -1 -1 -1 +1 -1 -1 +1 -1 -1 +1 -1 -1 +1 -1 ...  -1 -128.0       1 ...\n",
      "50 -1 +1 -1 -1 -1 +1 -1 -1 +1 -1 -1 +1 +1 -1 +1 -1 ...  -1 -128.0       1 ...\n",
      "73 -1 +1 -1 -1 -1 +1 -1 -1 +1 -1 -1 +1 -1 -1 +1 -1 ...  -1 -128.0       1 ...\n",
      "34 -1 +1 -1 -1 -1 +1 -1 -1 +1 -1 -1 +1 +1 -1 +1 -1 ...  -1 -127.0       1 ...\n",
      "40 -1 -1 -1 -1 -1 +1 -1 -1 -1 +1 -1 +1 -1 -1 +1 +1 ...  -1 -127.0       1 ...\n",
      "47 -1 -1 -1 -1 -1 +1 -1 -1 +1 -1 -1 +1 +1 -1 +1 +1 ...  -1 -127.0       1 ...\n",
      "48 -1 -1 -1 -1 -1 +1 +1 -1 +1 +1 -1 +1 +1 -1 +1 +1 ...  -1 -127.0       1 ...\n",
      "58 +1 +1 -1 -1 -1 +1 -1 -1 +1 -1 -1 +1 +1 -1 +1 -1 ...  -1 -127.0       1 ...\n",
      "64 -1 +1 -1 -1 -1 +1 -1 -1 +1 -1 -1 +1 -1 -1 +1 -1 ...  -1 -127.0       1 ...\n",
      "72 -1 -1 +1 -1 -1 +1 +1 -1 +1 +1 +1 +1 +1 -1 +1 +1 ...  -1 -127.0       1 ...\n",
      "75 -1 -1 -1 -1 -1 -1 -1 -1 +1 -1 -1 +1 +1 -1 +1 -1 ...  -1 -127.0       1 ...\n",
      "76 +1 +1 -1 -1 -1 +1 -1 -1 +1 -1 -1 +1 +1 -1 +1 -1 ...  -1 -127.0       1 ...\n",
      "92 +1 -1 -1 -1 -1 +1 -1 -1 +1 -1 +1 +1 -1 -1 +1 -1 ...  -1 -127.0       1 ...\n",
      "17 -1 -1 -1 -1 -1 +1 -1 -1 +1 -1 -1 +1 -1 -1 +1 -1 ...  -1 -126.0       1 ...\n",
      "33 -1 -1 -1 -1 -1 +1 -1 -1 +1 -1 -1 +1 +1 -1 +1 -1 ...  -1 -126.0       1 ...\n",
      "35 -1 -1 -1 -1 -1 +1 -1 -1 +1 -1 -1 +1 +1 -1 +1 -1 ...  -1 -126.0       1 ...\n",
      "44 -1 -1 -1 -1 -1 +1 +1 -1 +1 -1 -1 +1 +1 -1 +1 -1 ...  -1 -126.0       1 ...\n",
      "46 -1 -1 -1 -1 -1 +1 -1 -1 +1 -1 -1 +1 -1 -1 +1 -1 ...  -1 -126.0       1 ...\n",
      "52 -1 +1 -1 -1 -1 +1 -1 -1 +1 -1 -1 +1 +1 -1 +1 -1 ...  -1 -126.0       1 ...\n",
      "53 -1 +1 -1 -1 -1 +1 -1 -1 +1 -1 +1 +1 +1 -1 +1 -1 ...  -1 -126.0       1 ...\n",
      "54 -1 -1 -1 -1 -1 +1 -1 -1 +1 +1 +1 +1 +1 -1 +1 +1 ...  -1 -126.0       1 ...\n",
      "61 +1 -1 -1 -1 -1 +1 +1 -1 +1 +1 -1 -1 -1 -1 +1 +1 ...  -1 -126.0       1 ...\n",
      "62 -1 +1 -1 -1 -1 +1 -1 -1 +1 -1 -1 +1 -1 -1 +1 -1 ...  -1 -126.0       1 ...\n",
      "94 -1 -1 -1 +1 -1 +1 -1 -1 +1 -1 -1 +1 +1 -1 +1 +1 ...  -1 -126.0       1 ...\n",
      "36 -1 +1 -1 +1 -1 +1 -1 -1 -1 +1 -1 +1 -1 -1 +1 +1 ...  -1 -125.0       1 ...\n",
      "57 -1 +1 -1 -1 -1 +1 -1 -1 +1 -1 -1 +1 -1 -1 +1 -1 ...  -1 -125.0       1 ...\n",
      "59 -1 +1 -1 -1 -1 +1 -1 -1 +1 +1 -1 +1 +1 -1 +1 +1 ...  -1 -125.0       1 ...\n",
      "68 -1 +1 -1 -1 -1 +1 -1 -1 +1 -1 -1 +1 +1 -1 +1 -1 ...  -1 -125.0       1 ...\n",
      "71 +1 +1 -1 -1 -1 +1 -1 -1 +1 -1 -1 +1 -1 -1 +1 -1 ...  -1 -125.0       1 ...\n",
      "84 -1 -1 -1 -1 -1 +1 -1 -1 -1 +1 -1 +1 -1 -1 +1 -1 ...  -1 -125.0       1 ...\n",
      "67 -1 -1 -1 -1 -1 +1 -1 -1 +1 +1 -1 -1 -1 -1 -1 +1 ...  -1 -124.0       1 ...\n",
      "74 -1 +1 -1 -1 -1 +1 -1 -1 +1 -1 -1 +1 -1 -1 -1 -1 ...  -1 -124.0       1 ...\n",
      "79 +1 -1 -1 -1 -1 +1 -1 -1 +1 -1 -1 +1 -1 -1 +1 -1 ...  -1 -124.0       1 ...\n",
      "49 -1 -1 -1 -1 -1 +1 -1 -1 +1 -1 -1 +1 +1 -1 +1 -1 ...  -1 -123.0       1 ...\n",
      "51 +1 -1 -1 -1 -1 +1 +1 -1 +1 -1 +1 -1 +1 -1 +1 -1 ...  -1 -123.0       1 ...\n",
      "69 +1 -1 -1 -1 -1 +1 -1 -1 +1 -1 -1 +1 +1 -1 +1 -1 ...  -1 -123.0       1 ...\n",
      "63 -1 -1 -1 -1 -1 -1 +1 -1 +1 -1 -1 +1 +1 -1 +1 -1 ...  -1 -122.0       1 ...\n",
      "70 +1 +1 -1 +1 -1 +1 +1 -1 +1 -1 -1 +1 +1 -1 +1 +1 ...  -1 -122.0       1 ...\n",
      "77 +1 +1 -1 +1 -1 +1 +1 -1 +1 -1 -1 +1 +1 -1 +1 +1 ...  -1 -122.0       1 ...\n",
      "81 -1 +1 -1 -1 +1 +1 -1 -1 +1 -1 -1 +1 -1 -1 +1 -1 ...  -1 -122.0       1 ...\n",
      "82 +1 -1 -1 -1 -1 +1 +1 -1 +1 -1 -1 +1 +1 -1 +1 -1 ...  -1 -122.0       1 ...\n",
      "91 +1 -1 -1 -1 -1 +1 -1 -1 +1 -1 -1 +1 +1 -1 +1 -1 ...  -1 -122.0       1 ...\n",
      "93 +1 +1 -1 -1 +1 +1 +1 -1 +1 -1 -1 +1 +1 -1 +1 +1 ...  -1 -122.0       1 ...\n",
      "83 +1 -1 -1 -1 -1 +1 -1 -1 +1 -1 -1 +1 +1 -1 +1 +1 ...  -1 -121.0       1 ...\n",
      "87 -1 -1 -1 -1 +1 +1 -1 -1 +1 -1 +1 +1 +1 -1 +1 -1 ...  -1 -121.0       1 ...\n",
      "88 +1 -1 -1 -1 -1 +1 -1 -1 +1 -1 -1 +1 -1 -1 +1 -1 ...  -1 -121.0       1 ...\n",
      "89 -1 +1 -1 -1 -1 +1 -1 -1 +1 -1 -1 +1 +1 -1 +1 -1 ...  -1 -121.0       1 ...\n",
      "85 +1 +1 -1 -1 -1 +1 -1 -1 +1 -1 -1 +1 +1 -1 +1 -1 ...  -1 -120.0       1 ...\n",
      "98 +1 -1 -1 -1 -1 +1 +1 -1 +1 -1 -1 +1 -1 +1 +1 -1 ...  -1 -120.0       1 ...\n",
      "86 -1 -1 +1 -1 -1 +1 -1 -1 +1 -1 -1 +1 +1 +1 -1 +1 ...  -1 -119.0       1 ...\n",
      "90 +1 -1 -1 -1 -1 +1 +1 -1 +1 +1 +1 +1 -1 -1 +1 +1 ...  -1 -119.0       1 ...\n",
      "95 +1 -1 -1 -1 +1 +1 +1 -1 +1 +1 +1 -1 +1 -1 +1 +1 ...  -1 -115.0       1 ...\n",
      "97 +1 +1 -1 -1 -1 +1 -1 +1 -1 +1 -1 -1 +1 -1 -1 +1 ...  -1 -114.0       1 ...\n",
      "96 -1 +1 -1 +1 -1 +1 -1 -1 +1 -1 -1 +1 +1 -1 +1 +1 ...  -1 -112.0       1 ...\n",
      "99 +1 -1 +1 -1 -1 +1 -1 -1 +1 -1 -1 -1 +1 +1 +1 +1 ...  -1 -108.0       1 ...\n",
      "['SPIN', 100 rows, 100 samples, 120 variables]\n"
     ]
    }
   ],
   "source": [
    "#Solve with DWave\n",
    "num_read=100\n",
    "secure_q = input(\"Do you really want to use the QPU? (y/n)\")\n",
    "if secure_q == 'y' or secure_q == 'Y':\n",
    "    sampler = EmbeddingComposite(DWaveSampler(token='DEV-291d80af600d6eb433a8019c579070ba37436e9a'))\n",
    "    sample_set = sampler.sample_ising(h, J, num_reads=num_read, return_embedding=True)\n",
    "    print(\"Using DWaveSampler()\")\n",
    "    print(sample_set)"
   ]
  },
  {
   "cell_type": "markdown",
   "id": "574400c4-711b-4104-80fc-c3120237f8cb",
   "metadata": {},
   "source": [
    "#### QPU access time (time used by de QPU: configuration and solving)"
   ]
  },
  {
   "cell_type": "code",
   "execution_count": 9,
   "id": "e94d0ad7-ea9c-4721-b946-8f12d6a040e7",
   "metadata": {},
   "outputs": [
    {
     "name": "stdout",
     "output_type": "stream",
     "text": [
      "Using DWave QPU... QPU access time: 0.037832769999999995 s.  ; QPU sampling time: 0.02207 s.\n"
     ]
    }
   ],
   "source": [
    "qpu_access_time = sample_set.info['timing']['qpu_access_time']\n",
    "#Tiempo usado por la QPU para resolver el problema de forma activa\n",
    "qpu_sampling_time = sample_set.info['timing']['qpu_sampling_time']\n",
    "print(\"Using DWave QPU... QPU access time:\", qpu_access_time*10**(-6), \"s.\", \" ; QPU sampling time:\", qpu_sampling_time*10**(-6), \"s.\")"
   ]
  },
  {
   "cell_type": "markdown",
   "id": "749b4fa6-b5dc-48ac-97b2-3d4205c35537",
   "metadata": {},
   "source": [
    "#### Count unsatisfied clauses for each assignment and change the format of the results"
   ]
  },
  {
   "cell_type": "code",
   "execution_count": 10,
   "id": "719c8aec-c2ae-4ffd-baa1-5b944d98e1c0",
   "metadata": {},
   "outputs": [],
   "source": [
    "def count_unsatisfied_clauses(assignment, clauses):\n",
    "    count = 0\n",
    "    for clause in clauses:\n",
    "        for literal in clause:\n",
    "            if (literal > 0 and assignment[literal - 1] == 1) or (literal < 0 and assignment[-literal - 1] == -1):\n",
    "                count += 1\n",
    "                break\n",
    "    return str(len(clauses)-count)"
   ]
  },
  {
   "cell_type": "code",
   "execution_count": 11,
   "id": "0a9c0fa7-c20a-46f9-a7c5-61bf1b980d6d",
   "metadata": {},
   "outputs": [],
   "source": [
    "#Change of the format\n",
    "def convert_to_format(result):\n",
    "    return ''.join('1' if result[v] == 1 else '0' for v in result)"
   ]
  },
  {
   "cell_type": "code",
   "execution_count": 12,
   "id": "afad71df-76cd-4ede-889e-48b50572c426",
   "metadata": {},
   "outputs": [
    {
     "name": "stdout",
     "output_type": "stream",
     "text": [
      "Soluciones guardadas en <_io.TextIOWrapper name='s2v120c1500-5.cnf.nr.100.dwave.sol' mode='w' encoding='UTF-8'>\n"
     ]
    }
   ],
   "source": [
    "#Open file and write solutions\n",
    "output_file = f\"{ruta}.nr.{num_read}.dwave.sol\"\n",
    "with open(output_file, 'w') as output_file:\n",
    "    #Write solving time\n",
    "    output_file.write(f\"Total time the QPU has spent processing the problem (qpu_access_time): {qpu_access_time*10**(-6)} segundos\\n\"\n",
    "    f\"Total time the QPU has spent on active resolution (qpu_sampling_time): {qpu_sampling_time*10**(-6)} segundos\\n\")\n",
    "    \n",
    "    #Write results for each assignment\n",
    "    for assignment in sample_set:\n",
    "        formatted_result = convert_to_format(assignment)\n",
    "        unsatisfied = count_unsatisfied_clauses(assignment, clauses)\n",
    "        output_file.write('o ' + unsatisfied + '\\n' + 'v ' + formatted_result + '\\n')\n",
    "\n",
    "print(f'Soluciones guardadas en {output_file}')"
   ]
  },
  {
   "cell_type": "markdown",
   "id": "7cee87d1-c44f-4df4-b656-3346a88d5509",
   "metadata": {},
   "source": [
    "#### Minor Embedding"
   ]
  },
  {
   "cell_type": "code",
   "execution_count": 13,
   "id": "1a053ee5-bded-4e63-bfe0-5f86c65aae32",
   "metadata": {},
   "outputs": [
    {
     "name": "stdout",
     "output_type": "stream",
     "text": [
      "Chain stregnth:  1.7413837218334927\n",
      "Max chain length:  20\n",
      "Percentage of samples with >10% breaks is 0.0 and >0 is 99.0.\n"
     ]
    }
   ],
   "source": [
    "print(\"Chain stregnth: \", sample_set.info[\"embedding_context\"][\"chain_strength\"])\n",
    "chains = sample_set.info[\"embedding_context\"][\"embedding\"].values()  \n",
    "print(\"Max chain length: \", max(len(chain) for chain in chains))\n",
    "print(\"Percentage of samples with >10% breaks is {} and >0 is {}.\".format(\n",
    "      np.count_nonzero(sample_set.record.chain_break_fraction > 0.10)/num_read*100,\n",
    "      np.count_nonzero(sample_set.record.chain_break_fraction > 0.0)/num_read*100))"
   ]
  },
  {
   "cell_type": "code",
   "execution_count": 14,
   "id": "992c9c43-b0c0-4924-baaa-2a9e0f986740",
   "metadata": {},
   "outputs": [
    {
     "data": {
      "text/html": [
       "<iframe src=http://127.0.0.1:18000/?problemId=2863aa94-e074-4574-ba95-7af17f51fd15 width=\"100%\" height=640></iframe>"
      ],
      "text/plain": [
       "Serving Inspector on http://127.0.0.1:18000/?problemId=2863aa94-e074-4574-ba95-7af17f51fd15"
      ]
     },
     "metadata": {},
     "output_type": "display_data"
    },
    {
     "data": {
      "text/plain": [
       "'http://127.0.0.1:18000/?problemId=2863aa94-e074-4574-ba95-7af17f51fd15'"
      ]
     },
     "execution_count": 14,
     "metadata": {},
     "output_type": "execute_result"
    }
   ],
   "source": [
    "dwave.inspector.show(sample_set)"
   ]
  },
  {
   "cell_type": "markdown",
   "id": "e8e19bce-39ad-4820-82f5-0028f1eb01e5",
   "metadata": {},
   "source": [
    "#### Statistics of the solutions"
   ]
  },
  {
   "cell_type": "code",
   "execution_count": 15,
   "id": "899e3c5a-013e-46a8-937f-f0d372b30038",
   "metadata": {
    "scrolled": true
   },
   "outputs": [
    {
     "name": "stdout",
     "output_type": "stream",
     "text": [
      "Energías: [-139. -136. -138. -135. -136. -135. -133. -132. -130. -135. -135. -131.\n",
      " -132. -131. -131. -129. -130. -126. -132. -128. -128. -133. -129. -132.\n",
      " -132. -132. -131. -129. -130. -128. -129. -128. -128. -126. -127. -126.\n",
      " -125. -129. -130. -129. -127. -128. -129. -129. -126. -128. -126. -127.\n",
      " -127. -123. -128. -123. -126. -126. -126. -131. -130. -125. -127. -125.\n",
      " -130. -126. -126. -122. -127. -129. -130. -124. -125. -123. -122. -125.\n",
      " -127. -128. -124. -127. -127. -122. -129. -124. -130. -122. -122. -121.\n",
      " -125. -120. -119. -121. -121. -121. -119. -122. -127. -122. -126. -115.\n",
      " -112. -114. -120. -108.]\n",
      "Ocurrencias: [1 1 1 1 1 1 1 1 1 1 1 1 1 1 1 1 1 1 1 1 1 1 1 1 1 1 1 1 1 1 1 1 1 1 1 1 1\n",
      " 1 1 1 1 1 1 1 1 1 1 1 1 1 1 1 1 1 1 1 1 1 1 1 1 1 1 1 1 1 1 1 1 1 1 1 1 1\n",
      " 1 1 1 1 1 1 1 1 1 1 1 1 1 1 1 1 1 1 1 1 1 1 1 1 1 1]\n",
      "Media de Energías: -126.96\n"
     ]
    }
   ],
   "source": [
    "# Obtener estadísticas de las soluciones\n",
    "energias = sample_set.data_vectors['energy']  # Lista de energías de las soluciones\n",
    "ocurrencias = sample_set.data_vectors['num_occurrences']  # Lista de ocurrencias de cada solución\n",
    "\n",
    "# Calcular estadísticas adicionales si es necesario\n",
    "media_energias = sum(energias * ocurrencias) / sum(ocurrencias)\n",
    "\n",
    "# Imprimir estadísticas\n",
    "print(f'Energías: {energias}')\n",
    "print(f'Ocurrencias: {ocurrencias}')\n",
    "print(f'Media de Energías: {media_energias}')"
   ]
  },
  {
   "cell_type": "markdown",
   "id": "46fa99b7-7213-48f6-a596-a6e3c8bf1164",
   "metadata": {},
   "source": [
    "#### Post processing"
   ]
  },
  {
   "cell_type": "code",
   "execution_count": 16,
   "id": "d19d6445-9c96-48eb-9ec5-a855e88fe73d",
   "metadata": {},
   "outputs": [
    {
     "name": "stdout",
     "output_type": "stream",
     "text": [
      "Time for Post-processing: 0.02 s.\n"
     ]
    },
    {
     "data": {
      "image/png": "[encoded data removed]",
      "text/plain": [
       "<Figure size 640x480 with 1 Axes>"
      ]
     },
     "metadata": {},
     "output_type": "display_data"
    },
    {
     "data": {
      "image/png": "[encoded data removed]",
      "text/plain": [
       "<Figure size 640x480 with 1 Axes>"
      ]
     },
     "metadata": {},
     "output_type": "display_data"
    },
    {
     "name": "stdout",
     "output_type": "stream",
     "text": [
      "Soluciones guardadas en <_io.TextIOWrapper name='PP.s2v120c1500-5.cnf.nr.100.dwave.sol' mode='w' encoding='UTF-8'>\n"
     ]
    }
   ],
   "source": [
    "solver_greedy = SteepestDescentSolver()\n",
    "start_time = time.time()\n",
    "sampleset_pp = solver_greedy.sample_ising(h, J, initial_states=sample_set)\n",
    "end_time = time.time()\n",
    "\n",
    "print(\"Time for Post-processing:\", round(end_time-start_time, 2), \"s.\")\n",
    "\n",
    "plt.plot(list(range(100)), sample_set.record.energy, 'b.-',\n",
    "                           sampleset_pp.record.energy, 'r^-') \n",
    "plt.legend(['QPU samples', 'Postprocessed Samples'])          \n",
    "plt.xlabel(\"Sample\")    \n",
    "plt.ylabel(\"Energy\")    \n",
    "plt.show()\n",
    "\n",
    "plt.hist(sample_set.record.energy, bins=100, alpha=0.5, color='blue', label='QPU energies')\n",
    "plt.hist(sampleset_pp.record.energy, bins=100, alpha=0.5, color='orange', label='Postprocessed energies')\n",
    "plt.xlabel('Energía')\n",
    "plt.ylabel('Frecuencia')\n",
    "plt.legend()\n",
    "plt.show()\n",
    "\n",
    "#Abre el archivo para escribir las soluciones\n",
    "output_file = f\"PP.{ruta}.nr.{num_read}.dwave.sol\"\n",
    "with open(output_file, 'w') as output_file:\n",
    "    #Escribimos el tiempo que ha tardado en resolver el problema\n",
    "    output_file.write(f\"Total time the QPU has spent processing the problem (qpu_access_time): {qpu_access_time*10**(-6)} segundos\\n\"\n",
    "    f\"Total time the QPU has spent on active resolution (qpu_sampling_time): {qpu_sampling_time*10**(-6)} segundos\\n\"\n",
    "    f\"Total time for QPU and Post-processing: {qpu_access_time*10**(-6)+round(end_time-start_time, 2)} segundos\\n\")\n",
    "    \n",
    "    #Recorre los resultados y escribe cada uno en el archivo\n",
    "    for assignment in sampleset_pp:\n",
    "        formatted_result = convert_to_format(assignment)\n",
    "        unsatisfied = count_unsatisfied_clauses(assignment, clauses)\n",
    "        output_file.write('o ' + unsatisfied + '\\n' + 'v ' + formatted_result + '\\n')\n",
    "\n",
    "print(f'Soluciones guardadas en {output_file}')"
   ]
  },
  {
   "cell_type": "markdown",
   "id": "d11e78fc-4cdc-473c-8583-da2f8c2ee29a",
   "metadata": {},
   "source": [
    "### Using simulated annealing"
   ]
  },
  {
   "cell_type": "code",
   "execution_count": 29,
   "id": "6f838d4b-d572-44eb-824a-175f3dd60f18",
   "metadata": {
    "scrolled": true
   },
   "outputs": [
    {
     "name": "stdout",
     "output_type": "stream",
     "text": [
      "Using SimulatedAnnlearingSampler()... Time: 0.82 s.\n",
      "000001001001001111011001100101100010001000001011111000011011001110000111101001000010000111000011111110001011000101100110 -142.0 233\n",
      "000001001001001111011001100101100110000000001011010000011011001110000111101001000010000111000011011110001011000101100110 -142.0 233\n",
      "000001001001001111011001100101100110000000001011010000011011001110000111101001000010000111000011011110001011000101100110 -142.0 233\n",
      "000001001001001111011001100101100110000000001011110000011011001110000111101001000010000111000011011110001011000101100110 -142.0 233\n",
      "000001001001001111011001100101100010000000001011111000011011001110000111101001000010000111000011111110001011000101100110 -142.0 233\n",
      "000001001001001111011001100101100110000000001011011000011011001110000111101001000010000111000011011110001011000101100110 -142.0 233\n",
      "000001001001001111011001100101100110001000001011111000011011001110000111101001000010000111000011111110001011000101100110 -142.0 233\n",
      "000001001001001111011001100101100110001000001011111000011011001110000111101001000010000111000011111110001011000101100110 -142.0 233\n",
      "000001001001001111011001100101100110000000001011010000011011001110000111101001000010000111000011011110001011000101100110 -142.0 233\n",
      "000001001001001011011001100101100110001000001011111000011011001110000111101001000011000111000011011110001011000101100110 -142.0 233\n",
      "000001001001001111011001100101100110000000001011011000011011001110000111101001000010000111000011011110001011000101100110 -142.0 233\n",
      "000001001001001111011001100101100110000000001011110000011011001110000111101001000010000111000011011110001011000101100110 -142.0 233\n",
      "000001001001001111011001100101100110000000001011111000011011001110000111101001000010000111000011011110001011000101100110 -142.0 233\n",
      "000001001001001111011001100101100110000000001011011000011011001110000111101001000010000111000011111110001011000101100110 -142.0 233\n",
      "000001001001001011011001100101100110001000001011111000011011001110000111101001000011000111000011011110001011000101100110 -142.0 233\n",
      "000001001001001111011001100101100110000000001011010000011011001110000111101001000010000111000011111110001011000101100110 -142.0 233\n",
      "000001001001001111011001100101100110000000001011110000011011001110000111101001000010000111000011111110001011000101100110 -142.0 233\n",
      "000001001001001111011001100101100010000000001011011000011011001110000111101001000010000111000011111110001011000101100110 -142.0 233\n",
      "000001001001001111011001100101100110000000001011010000011011001110000111101001000010000111000011011110001011000101100110 -142.0 233\n",
      "000001001001001111011001100101100110000000001011110000011011001110000111101001000010000111000011111110001011000101100110 -142.0 233\n",
      "000001001001001111011001100101100010001000001011111000011011001110000111101001000010000111000011111110001011000101100110 -142.0 233\n",
      "000001001001001111011001100101100110001000001011111000011011001110000111101001000010000111000011111110001011000101100110 -142.0 233\n",
      "000001001001001111011001100101100110000000001011010000011011001110000111101001000010000111000011111110001011000101100110 -142.0 233\n",
      "000001001001001111011001100101100010000000001011011000011011001110000111101001000010000111000011111110001011000101100110 -142.0 233\n",
      "000001001001001111011001100101100010000000001011011000011011001110000111101001000010000111000011111110001011000101100110 -142.0 233\n",
      "000001001001001111011001100101100110000000001011011000011011001110000111101001000010000111000011011110001011000101100110 -142.0 233\n",
      "000001001001001111011001100101100110000000001011111000011011001110000111101001000010000111000011011110001011000101100110 -142.0 233\n",
      "000001001001001111011001100101100110000000001011110000011011001110000111101001000010000111000011111110001011000101100110 -142.0 233\n",
      "000001001001001111011001100101100110001000001011111000011011001110000111101001000010000111000011011110001011000101100110 -142.0 233\n",
      "000001001001001011011001100101100110001000001011111000011011001110000111101001000011000111000011011110001011000101100110 -142.0 233\n",
      "000001001001001111011001100101100110000000001011110000011011001110000111101001000010000111000011111110001011000101100110 -142.0 233\n",
      "000001001001001111011001100101100110000000001011110000011011001110000111101001000010000111000011111110001011000101100110 -142.0 233\n",
      "000001001001001111011001100101100110000000001011010000011011001110000111101001000010000111000011111110001011000101100110 -142.0 233\n",
      "000001001001001011011001100101100110001000001011111000011011001110000111101001000010000111000011011110001011000101100110 -142.0 233\n",
      "000001001001001111011001100101100110000000001011011000011011001110000111101001000010000111000011011110001011000101100110 -142.0 233\n",
      "000001001001001111011001100101100110000000001011011000011011001110000111101001000010000111000011111110001011000101100110 -142.0 233\n",
      "000001001001001111011001100101100110000000001011010000011011001110000111101001000010000111000011111110001011000101100110 -142.0 233\n",
      "000001001001001011011001100101100110001000001011111000011011001110000111101001000010000111000011011110001011000101100110 -142.0 233\n",
      "000001001001001111011001100101100110000000001011111000011011001110000111101001000010000111000011011110001011000101100110 -142.0 233\n",
      "000001001001001111011001100101100010001000001011111000011011001110000111101001000010000111000011111110001011000101100110 -142.0 233\n",
      "000001001001001111011001100101100110000000001011010000011011001110000111101001000010000111000011111110001011000101100110 -142.0 233\n",
      "000001001001001111011001100101100010000000001011111000011011001110000111101001000010000111000011111110001011000101100110 -142.0 233\n",
      "000001001001001111011001100101100110000000001011011000011011001110000111101001000010000111000011111110001011000101100110 -142.0 233\n",
      "000001001001001111011001100101100110000000001011111000011011001110000111101001000010000111000011011110001011000101100110 -142.0 233\n",
      "000001001001001111011001100101100110001000001011111000011011001110000111101001000010000111000011111110001011000101100110 -142.0 233\n",
      "000001001001001111011001100101100110000000001011111000011011001110000111101001000010000111000011111110001011000101100110 -142.0 233\n",
      "000001001001001111011001100101100110000000001011111000011011001110000111101001000010000111000011011110001011000101100110 -142.0 233\n",
      "000001001001001011011001100101100110001000001011111000011011001110000111101001000010000111000011011110001011000101100110 -142.0 233\n",
      "000001001001001111011001100101100110000000001011010000011011001110000111101001000010000111000011011110001011000101100110 -142.0 233\n",
      "000001001001001111011001100101100110000000001011110000011011001110000111101001000010000111000011111110001011000101100110 -142.0 233\n",
      "000001001001001111011001100101100110000000001011010000011011001110000111101001000010000111000011011110001011000101100110 -142.0 233\n",
      "000001001001001111011001100101100010000000001011011000011011001110000111101001000010000111000011111110001011000101100110 -142.0 233\n",
      "000001001001001111011001100101100110001000001011111000011011001110000111101001000010000111000011011110001011000101100110 -142.0 233\n",
      "000001001001001111011001100101100010001000001011111000011011001110000111101001000010000111000011111110001011000101100110 -142.0 233\n",
      "000001001001001111011001100101100110000000001011110000011011001110000111101001000010000111000011111110001011000101100110 -142.0 233\n",
      "000001001001001111011001100101100110000000001011111000011011001110000111101001000010000111000011011110001011000101100110 -142.0 233\n",
      "000001001001001111011001100101100110001000001011111000011011001110000111101001000010000111000011111110001011000101100110 -142.0 233\n",
      "000001001001001111011001100101100110000000001011010000011011001110000111101001000010000111000011111110001011000101100110 -142.0 233\n",
      "000001001001001111011001100101100110000000001011010000011011001110000111101001000010000111000011111110001011000101100110 -142.0 233\n",
      "000001001001001111011001100101100110000000001011011000011011001110000111101001000010000111000011111110001011000101100110 -142.0 233\n",
      "000001001001001111011001100101100110000000001011110000011011001110000111101001000010000111000011111110001011000101100110 -142.0 233\n",
      "000001001001001111011001100101100010001000001011111000011011001110000111101001000010000111000011111110001011000101100110 -142.0 233\n",
      "000001001001001111011001100101100110000000001011111000011011001110000111101001000010000111000011011110001011000101100110 -142.0 233\n",
      "000001001001001111011001100101100110001000001011111000011011001110000111101001000010000111000011011110001011000101100110 -142.0 233\n",
      "000001001001001111011001100101100110000000001011110000011011001110000111101001000010000111000011111110001011000101100110 -142.0 233\n",
      "000001001001001111011001100101100110000000001011111000011011001110000111101001000010000111000011111110001011000101100110 -142.0 233\n",
      "000001001001001111011001100101100010000000001011111000011011001110000111101001000010000111000011111110001011000101100110 -142.0 233\n",
      "000001001001001111011001100101100110000000001011111000011011001110000111101001000010000111000011111110001011000101100110 -142.0 233\n",
      "000001001001001111011001100101100010000000001011011000011011001110000111101001000010000111000011111110001011000101100110 -142.0 233\n",
      "000001001001001011011001100101100110001000001011111000011011001110000111101001000010000111000011011110001011000101100110 -142.0 233\n",
      "000001001001001111011001100101100110000000001011110000011011001110000111101001000010000111000011011110001011000101100110 -142.0 233\n",
      "000001001001001111011001100101100010001000001011111000011011001110000111101001000010000111000011111110001011000101100110 -142.0 233\n",
      "000001001001001111011001100101100110000000001011110000011011001110000111101001000010000111000011011110001011000101100110 -142.0 233\n",
      "000001001001001011011001100101100110001000001011111000011011001110000111101001000010000111000011011110001011000101100110 -142.0 233\n",
      "000001001001001111011001100101100010000000001011011000011011001110000111101001000010000111000011111110001011000101100110 -142.0 233\n",
      "000001001001001111011001100101100110000000001011110000011011001110000111101001000010000111000011011110001011000101100110 -142.0 233\n",
      "000001001001001111011001100101100110000000001011010000011011001110000111101001000010000111000011011110001011000101100110 -142.0 233\n",
      "000001001001001111011001100101100010001000001011111000011011001110000111101001000010000111000011111110001011000101100110 -142.0 233\n",
      "000001001001001011011001100101100110001000001011111000011011001110000111101001000011000111000011011110001011000101100110 -142.0 233\n",
      "000001001001001111011001100101100110000000001011110000011011001110000111101001000010000111000011111110001011000101100110 -142.0 233\n",
      "000001001001001111011001100101100110001000001011111000011011001110000111101001000010000111000011011110001011000101100110 -142.0 233\n",
      "000001001001001111011001100101100110000000001011011000011011001110000111101001000010000111000011011110001011000101100110 -142.0 233\n",
      "000001001001001111011001100101100110000000001011010000011011001110000111101001000010000111000011111110001011000101100110 -142.0 233\n",
      "000001001001001111011001100101100110000000001011110000011011001110000111101001000010000111000011011110001011000101100110 -142.0 233\n",
      "000001001001001111011001100101100110001000001011111000011011001110000111101001000010000111000011011110001011000101100110 -142.0 233\n",
      "000001001001001011011001100101100110001000001011111000011011001110000111101001000011000111000011011110001011000101100110 -142.0 233\n",
      "000001001001001111011001100101100110000000001011111000011011001110000111101001000010000111000011111110001011000101100110 -142.0 233\n",
      "000001001001001111011001100101100110000000001011011000011011001110000111101001000010000111000011111110001011000101100110 -142.0 233\n",
      "000001001001001111011001100101100110000000001011011000011011001110000111101001000010000111000011011110001011000101100110 -142.0 233\n",
      "000001001001001111011001100101100110000000001011110000011011001110000111101001000010000111000011111110001011000101100110 -142.0 233\n",
      "000001001001001111011001100101100110001000001011111000011011001110000111101001000010000111000011111110001011000101100110 -142.0 233\n",
      "000001001001001111011001100101100010000000001011011000011011001110000111101001000010000111000011111110001011000101100110 -142.0 233\n",
      "000001001001001111011001100101100110000000001011011000011011001110000111101001000010000111000011111110001011000101100110 -142.0 233\n",
      "000001001001001111011001100101100110000000001011010000011011001110000111101001000010000111000011011110001011000101100110 -142.0 233\n",
      "000001001001001111011001100101100010001000001011111000011011001110000111101001000010000111000011111110001011000101100110 -142.0 233\n",
      "000001001001001011011001100101100110001000001011111000011011001110000111101001000010000111000011011110001011000101100110 -142.0 233\n",
      "000001001001001111011001100101100110000000001011010000011011001110000111101001000010000111000011111110001011000101100110 -142.0 233\n",
      "000001001001001111011001100101100110000000001011110000011011001110000111101001000010000111000011111110001011000101100110 -142.0 233\n",
      "000001001001001111011001100101100110000000001011110000011011001110000111101001000010000111000011111110001011000101100110 -142.0 233\n",
      "100001101001001010110001100101101111101100011011111000000110001000100010100001000001010111001001011110011001010101110110 -140.0 235\n"
     ]
    }
   ],
   "source": [
    "ising_model = dimod.BinaryQuadraticModel(h, J, 0.0, dimod.Vartype.SPIN)\n",
    "sampler = neal.SimulatedAnnealingSampler()\n",
    "start_time = time.time()\n",
    "response = sampler.sample(ising_model, num_reads=100)\n",
    "end_time = time.time()\n",
    "\n",
    "print(\"Using SimulatedAnnlearingSampler()... Time:\", round(end_time-start_time, 2), \"s.\")\n",
    "\n",
    "for sample, energy in response.data(['sample', 'energy']):\n",
    "    formatted_result = convert_to_format(sample)\n",
    "    unsatisfied = count_unsatisfied_clauses(sample, clauses)\n",
    "    print(formatted_result, energy, unsatisfied)"
   ]
  },
  {
   "cell_type": "code",
   "execution_count": null,
   "id": "543d10a8-a942-4467-9afd-6126773c6150",
   "metadata": {},
   "outputs": [],
   "source": []
  }
 ],
 "metadata": {
  "kernelspec": {
   "display_name": "Python 3 (ipykernel)",
   "language": "python",
   "name": "python3"
  },
  "language_info": {
   "codemirror_mode": {
    "name": "ipython",
    "version": 3
   },
   "file_extension": ".py",
   "mimetype": "text/x-python",
   "name": "python",
   "nbconvert_exporter": "python",
   "pygments_lexer": "ipython3",
   "version": "3.10.12"
  }
 },
 "nbformat": 4,
 "nbformat_minor": 5
}
