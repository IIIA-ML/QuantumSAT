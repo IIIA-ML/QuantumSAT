{
 "cells": [
  {
   "cell_type": "markdown",
   "id": "196a8ff8-43d0-4b75-923f-c94800f6e329",
   "metadata": {},
   "source": [
    "### Create Problem"
   ]
  },
  {
   "cell_type": "code",
   "execution_count": null,
   "id": "66fdbcba-5391-4fc9-a1dc-8385666d8973",
   "metadata": {},
   "outputs": [],
   "source": []
  },
  {
   "cell_type": "markdown",
   "id": "533512c6-a6ff-4651-95d4-e76ca9fd4cf4",
   "metadata": {},
   "source": [
    "#### Load Problem"
   ]
  },
  {
   "cell_type": "code",
   "execution_count": null,
   "id": "3a13818a-b38a-4c8e-ac17-7ca2f8c50464",
   "metadata": {},
   "outputs": [],
   "source": []
  },
  {
   "cell_type": "code",
   "execution_count": null,
   "id": "c0d2cc2d-8eaf-41b4-ab0e-a1978187bbc0",
   "metadata": {},
   "outputs": [],
   "source": []
  },
  {
   "cell_type": "markdown",
   "id": "171f8a3c-1b82-4445-b561-0fc491cf03f9",
   "metadata": {},
   "source": [
    "### Perform embedding with different seeds"
   ]
  },
  {
   "cell_type": "code",
   "execution_count": null,
   "id": "52c1cfea-d464-4aa5-844b-fd44241b3ea3",
   "metadata": {},
   "outputs": [],
   "source": []
  },
  {
   "cell_type": "markdown",
   "id": "3d20e762-0890-4cb9-a5af-b9e19b9e5ae2",
   "metadata": {},
   "source": [
    "#### Solutions - do they depend on the embedding?"
   ]
  },
  {
   "cell_type": "code",
   "execution_count": null,
   "id": "66b84675-1e08-41b7-86c8-4de195b20928",
   "metadata": {},
   "outputs": [],
   "source": []
  },
  {
   "cell_type": "code",
   "execution_count": null,
   "id": "b5a1830b-e536-45d9-b190-89bdcb01f590",
   "metadata": {},
   "outputs": [],
   "source": []
  },
  {
   "cell_type": "markdown",
   "id": "5910561d-d5da-4668-b8ef-e7fc08c5182b",
   "metadata": {},
   "source": [
    "### Perform embedding on subgraph and pass it as initial chain"
   ]
  },
  {
   "cell_type": "code",
   "execution_count": null,
   "id": "103977ea-13e7-4102-b374-f25895970565",
   "metadata": {},
   "outputs": [],
   "source": []
  },
  {
   "cell_type": "markdown",
   "id": "598aa5fe-a646-409c-b86a-e62493de89da",
   "metadata": {},
   "source": [
    "#### Solutions - are they better than D'Wave's default embedding?"
   ]
  },
  {
   "cell_type": "code",
   "execution_count": null,
   "id": "4b2268a4-5563-43a8-990f-55deb3b46cf9",
   "metadata": {},
   "outputs": [],
   "source": []
  },
  {
   "cell_type": "code",
   "execution_count": null,
   "id": "5f7cf86d-13fb-4fb1-8c5b-5d8428a42cdc",
   "metadata": {},
   "outputs": [],
   "source": []
  },
  {
   "cell_type": "code",
   "execution_count": null,
   "id": "edfd3f69-67e2-48b1-a7d7-01ab8dea66f8",
   "metadata": {},
   "outputs": [],
   "source": []
  },
  {
   "cell_type": "code",
   "execution_count": null,
   "id": "9bf820c8-2fa8-42d6-8605-81f7631d8367",
   "metadata": {},
   "outputs": [],
   "source": []
  }
 ],
 "metadata": {
  "kernelspec": {
   "display_name": "Python 3 (ipykernel)",
   "language": "python",
   "name": "python3"
  },
  "language_info": {
   "codemirror_mode": {
    "name": "ipython",
    "version": 3
   },
   "file_extension": ".py",
   "mimetype": "text/x-python",
   "name": "python",
   "nbconvert_exporter": "python",
   "pygments_lexer": "ipython3",
   "version": "3.11.6"
  }
 },
 "nbformat": 4,
 "nbformat_minor": 5
}
