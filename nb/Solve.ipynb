{
 "cells": [
  {
   "cell_type": "code",
   "execution_count": 1,
   "id": "8da8c588-2092-41ec-b3d9-f87a52eea4f3",
   "metadata": {},
   "outputs": [],
   "source": [
    "import sys\n",
    "sys.path.append('../src')\n",
    "import Nuesslein1\n",
    "import Nuesslein2\n",
    "import CJ1\n",
    "import CJ2\n",
    "import utils\n",
    "from pathlib import Path\n",
    "import numpy as np"
   ]
  },
  {
   "cell_type": "markdown",
   "id": "bd4eff12-e2f5-42ec-930b-5a93296079e8",
   "metadata": {},
   "source": [
    "## Generate 3SAT random instances"
   ]
  },
  {
   "cell_type": "markdown",
   "id": "7390135b-18e0-4cc7-b5ef-9b77057969ee",
   "metadata": {},
   "source": [
    "#### Generate 3 different experiments, i.e. 3 different sets of problems with different number of variables and clauses"
   ]
  },
  {
   "cell_type": "code",
   "execution_count": 2,
   "id": "3fc3d234-2278-4525-be2c-34e88b650ae1",
   "metadata": {},
   "outputs": [
    {
     "name": "stdin",
     "output_type": "stream",
     "text": [
      "Do you really want to generate all the problems? (y/n) y\n"
     ]
    }
   ],
   "source": [
    "secure = input(\"Do you really want to generate all the problems? (y/n)\")\n",
    "if secure == 'y' or secure == 'Y':\n",
    "    utils.generate_3_sat_problems()"
   ]
  },
  {
   "cell_type": "markdown",
   "id": "cb6e4cdd-b017-496c-8d87-1621702a3ceb",
   "metadata": {},
   "source": [
    "## Number of non-zero couplings in QUBO"
   ]
  },
  {
   "cell_type": "markdown",
   "id": "3817020b-8219-4c73-a2fb-308b1022caa3",
   "metadata": {},
   "source": [
    "#### Generate .txt files with the number of non zero couplings for each gadget and set of instances with the same variables in experiment 1"
   ]
  },
  {
   "cell_type": "code",
   "execution_count": null,
   "id": "f7b20508-9297-4816-8a9f-08d8af3124c1",
   "metadata": {},
   "outputs": [],
   "source": [
    "gadgets = {\n",
    "    'Nuesslein1': Nuesslein1,\n",
    "    'Nuesslein2': Nuesslein2,\n",
    "    'CJ1': CJ1,\n",
    "    'CJ2': CJ2,\n",
    "}\n",
    "#Information for experiment 1\n",
    "n_vars = np.arange(20,401,20)\n",
    "num_instances = 20\n",
    "\n",
    "for g, g_module in gadgets.items():\n",
    "    for vars in n_vars:\n",
    "        dir = f\"../exp/e1/Non_0_couplings/{g}/p{vars}\"\n",
    "        p_dir = Path(dir)\n",
    "        p_dir.mkdir(parents=True, exist_ok=True)\n",
    "        with open(f\"{dir}/non_zero_couplings.txt\", 'w') as f:\n",
    "            non_zero_c=[]\n",
    "            for i in range(num_instances):\n",
    "                file_path = f'../exp/e1/problems/p{vars}-{i}.cnf'\n",
    "                instance = getattr(g_module, g)(file_path)\n",
    "                instance.fillQ()\n",
    "                Q = instance.Q\n",
    "                non_zero_c.append(utils.get_non_zero_coupings(Q))\n",
    "            f.write(str(non_zero_c))"
   ]
  },
  {
   "cell_type": "markdown",
   "id": "7a9322e4-dad2-4ccd-ae8e-7a465e0bb0bb",
   "metadata": {},
   "source": [
    "## Number of physical qubits required"
   ]
  },
  {
   "cell_type": "markdown",
   "id": "519d3c23-1e93-4c3c-9f1e-eb6ee48fc69a",
   "metadata": {},
   "source": [
    "#### Generate .txt files with the embedding for D'Wave architecture for each gadget and each instance in experiment 2"
   ]
  },
  {
   "cell_type": "code",
   "execution_count": 2,
   "id": "160e584f-ecc0-4cf8-a61f-720451ef7246",
   "metadata": {
    "scrolled": true
   },
   "outputs": [],
   "source": [
    "gadgets = {\n",
    "    'Nuesslein1': Nuesslein1,\n",
    "    'Nuesslein2': Nuesslein2,\n",
    "    'CJ1': CJ1,\n",
    "    'CJ2': CJ2,\n",
    "}\n",
    "#Information for experiment 2\n",
    "n_vars = np.arange(15,28,3)\n",
    "num_instances = 20\n",
    "\n",
    "for g, g_module in gadgets.items():\n",
    "    for vars in n_vars:\n",
    "        for i in range(num_instances):\n",
    "            file_path = f'../exp/e2/problems/p{vars}-{i}.cnf'\n",
    "            instance = getattr(g_module, g)(file_path)\n",
    "            instance.fillQ()\n",
    "            embedding = utils.get_embedding(instance.Q)\n",
    "            if embedding == None:\n",
    "                print(f\"Error while embedding for {g}, vars={vars}, instance={i}\")\n",
    "            dir = f'../exp/e2/Embeddings/{g}/p{vars}'\n",
    "            p_dir = Path(dir)\n",
    "            p_dir.mkdir(parents=True, exist_ok=True)\n",
    "            with open(f'{dir}/p{vars}-{i}.txt', 'w') as archivo:\n",
    "                archivo.write(str(embedding))"
   ]
  },
  {
   "cell_type": "markdown",
   "id": "d7a271ab-7b3f-4e3d-91a7-6a41d73948f3",
   "metadata": {},
   "source": [
    "## Solving with Quantum Annealing (D'Wave) and Exact solver (Maxsatz)"
   ]
  },
  {
   "cell_type": "markdown",
   "id": "7f916005-37cd-474e-ad3f-66e4cfb6cac7",
   "metadata": {},
   "source": [
    "#### Generate .txt files with the reponse sample_set obtained and relevant parammeters for each gadget and each instance in experiment 3"
   ]
  },
  {
   "cell_type": "code",
   "execution_count": 3,
   "id": "5f24068e-5504-4b4b-96e7-adc3823bc462",
   "metadata": {
    "scrolled": true
   },
   "outputs": [],
   "source": [
    "gadgets = {\n",
    "    'Nuesslein1': Nuesslein1,\n",
    "    'Nuesslein2': Nuesslein2,\n",
    "    'CJ1': CJ1,\n",
    "    'CJ2': CJ2,\n",
    "}\n",
    "#Information for experiment 3\n",
    "n_vars=[5,10,12,20,50]\n",
    "iterations=20\n",
    "\n",
    "for vars in n_vars:\n",
    "    for i in range(iterations):\n",
    "        file_path = f\"../exp/e3/problems/p{vars}-{i}.cnf\"\n",
    "\n",
    "        #Exact solver (Maxsatz)\n",
    "        dir = '../exp/e3/Maxsatz_(exact)'\n",
    "        p_dir = Path(dir)\n",
    "        p_dir.mkdir(parents=True, exist_ok=True)\n",
    "        file_name = f'{dir}/p{vars}-{i}.txt'\n",
    "        with open(file_name, 'w') as archivo:\n",
    "            response = !./../src/maxsatz {file_path}\n",
    "            for line in response:\n",
    "                archivo.write(line + '\\n')\n",
    "        \n",
    "        #Quantum Annealing (D'Wave)\n",
    "        for g, g_module in gadgets.items():\n",
    "            dir = f\"../exp/e3/DWave/{g}/p{vars}\"\n",
    "            p_dir = Path(dir)\n",
    "            p_dir.mkdir(parents=True, exist_ok=True)\n",
    "            file_name = f'{dir}/p{vars}-{i}.txt'\n",
    "            instance = getattr(g_module, g)(file_path)\n",
    "            instance.solve(file_name)"
   ]
  },
  {
   "cell_type": "code",
   "execution_count": null,
   "id": "e16fb0c1-f885-4321-afa9-50393e44e8f2",
   "metadata": {},
   "outputs": [],
   "source": []
  }
 ],
 "metadata": {
  "kernelspec": {
   "display_name": "Python 3 (ipykernel)",
   "language": "python",
   "name": "python3"
  },
  "language_info": {
   "codemirror_mode": {
    "name": "ipython",
    "version": 3
   },
   "file_extension": ".py",
   "mimetype": "text/x-python",
   "name": "python",
   "nbconvert_exporter": "python",
   "pygments_lexer": "ipython3",
   "version": "3.11.6"
  }
 },
 "nbformat": 4,
 "nbformat_minor": 5
}
